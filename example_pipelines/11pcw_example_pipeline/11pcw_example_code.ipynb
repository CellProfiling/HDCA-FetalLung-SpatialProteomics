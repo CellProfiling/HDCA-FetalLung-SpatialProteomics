{
 "cells": [
  {
   "cell_type": "code",
   "execution_count": null,
   "metadata": {},
   "outputs": [],
   "source": [
    "from anndata import AnnData\n",
    "import scanpy as sc\n",
    "import squidpy as sq\n",
    "import numba\n",
    "import pandas as pd\n",
    "import seaborn as sns\n",
    "import matplotlib.pyplot as plt\n",
    "import numpy as np\n",
    "from scipy import stats\n",
    "import pytometry as pm\n",
    "from anndata import read_h5ad\n",
    "from ipywidgets import FloatProgress\n",
    "from utag import utag\n",
    "import holoviews as hv\n",
    "from utag.utils import celltype_connectivity, domain_connectivity\n",
    "from utag.vizualize import draw_network"
   ]
  },
  {
   "cell_type": "code",
   "execution_count": null,
   "metadata": {},
   "outputs": [],
   "source": [
    "plt.ion()\n",
    "sc.settings.set_figure_params(dpi=200, fontsize=10)"
   ]
  },
  {
   "cell_type": "markdown",
   "metadata": {},
   "source": [
    "# Loading data"
   ]
  },
  {
   "cell_type": "markdown",
   "metadata": {},
   "source": [
    "load selected area csv for corresponding week that you are running (selection is done using Perseus)."
   ]
  },
  {
   "cell_type": "code",
   "execution_count": null,
   "metadata": {},
   "outputs": [],
   "source": [
    "dat1=pd.read_table('/Users/sanem.sanyar/Python_squidpy_analysis/fetallung_analysis_python/11w/11w_selectedarea.csv',sep=',')"
   ]
  },
  {
   "cell_type": "code",
   "execution_count": null,
   "metadata": {},
   "outputs": [],
   "source": [
    "dat1 = dat1.drop([\"DAPI1\"], axis=1)\n"
   ]
  },
  {
   "cell_type": "code",
   "execution_count": null,
   "metadata": {},
   "outputs": [],
   "source": [
    "dat = dat1.drop(['size', 'cell_id', 'x', 'y'], axis=1)"
   ]
  },
  {
   "cell_type": "code",
   "execution_count": null,
   "metadata": {},
   "outputs": [],
   "source": [
    "dat"
   ]
  },
  {
   "cell_type": "markdown",
   "metadata": {},
   "source": [
    "# Defining/ subtracting cut off values"
   ]
  },
  {
   "cell_type": "markdown",
   "metadata": {},
   "source": [
    "insert the list of values to substract the background (values for each week provided in the supplementary files)"
   ]
  },
  {
   "cell_type": "code",
   "execution_count": null,
   "metadata": {},
   "outputs": [],
   "source": [
    "#cut off values based on images(test, higher cd44, CD90, DCN and wt1)\n",
    "bg_cut = [0.8668,8.1543,0.5302,0.0528,1.4586,0.2816,4.908,4.2471,2.2077,20.3258,7.287,2.3969,3.5992,0.3883,0.3179,\n",
    "0.8679,10,0.2211,7.5438,1.2001,0.1298,0.1221,3.0316,3.6212,0.143,0.4125,0.5709,6.1809,0.9834,3.5]"
   ]
  },
  {
   "cell_type": "code",
   "execution_count": null,
   "metadata": {},
   "outputs": [],
   "source": [
    "#subtracting cutoff values to get rid of background \n",
    "dat = dat.subtract(bg_cut)"
   ]
  },
  {
   "cell_type": "code",
   "execution_count": null,
   "metadata": {},
   "outputs": [],
   "source": [
    "exp=dat\n",
    "meta=dat1[[\"cell_id\", \"size\", \"x\",\"y\"]]\n"
   ]
  },
  {
   "cell_type": "code",
   "execution_count": null,
   "metadata": {},
   "outputs": [],
   "source": [
    "exp"
   ]
  },
  {
   "cell_type": "code",
   "execution_count": null,
   "metadata": {},
   "outputs": [],
   "source": [
    "meta"
   ]
  },
  {
   "cell_type": "markdown",
   "metadata": {},
   "source": [
    "# Anndata"
   ]
  },
  {
   "cell_type": "markdown",
   "metadata": {},
   "source": [
    "here we create an anndata object with exp and meta we created"
   ]
  },
  {
   "cell_type": "code",
   "execution_count": null,
   "metadata": {},
   "outputs": [],
   "source": [
    "import numpy as np\n",
    "coordinates=np.array(dat1.loc[:,['x', 'y']])"
   ]
  },
  {
   "cell_type": "code",
   "execution_count": null,
   "metadata": {},
   "outputs": [],
   "source": [
    "obsm={\"spatial\": coordinates}"
   ]
  },
  {
   "cell_type": "code",
   "execution_count": null,
   "metadata": {
    "scrolled": true
   },
   "outputs": [],
   "source": [
    "\n",
    "adata = sc.AnnData(exp,obs=meta,obsm={\"spatial\": coordinates})\n",
    "\n",
    "print(adata)\n",
    "\n",
    "adata.var # shows the gene names\n",
    "adata.X # LOOKS for expression\n",
    "\n"
   ]
  },
  {
   "cell_type": "markdown",
   "metadata": {},
   "source": [
    "# Arcsinh normalization"
   ]
  },
  {
   "cell_type": "code",
   "execution_count": null,
   "metadata": {},
   "outputs": [],
   "source": [
    "pm.tl.normalize_arcsinh(adata, cofactor=150)"
   ]
  },
  {
   "cell_type": "markdown",
   "metadata": {},
   "source": [
    "# Clustering"
   ]
  },
  {
   "cell_type": "code",
   "execution_count": null,
   "metadata": {
    "scrolled": true
   },
   "outputs": [],
   "source": [
    "sc.tl.pca(adata)\n",
    "sc.pp.neighbors(adata,n_neighbors= 10)\n",
    "sc.tl.umap(adata,min_dist= 0.1, spread= 0.3, negative_sample_rate= 4)\n",
    "sc.tl.leiden(adata,resolution=1)\n",
    "sc.pl.umap(adata, color='leiden')"
   ]
  },
  {
   "cell_type": "code",
   "execution_count": null,
   "metadata": {
    "scrolled": false
   },
   "outputs": [],
   "source": [
    "sc.tl.rank_genes_groups(adata, 'leiden', method='t-test')\n",
    "sc.pl.rank_genes_groups(adata, n_genes=5, sharey=False,save='ranking.pdf')"
   ]
  },
  {
   "cell_type": "code",
   "execution_count": null,
   "metadata": {},
   "outputs": [],
   "source": [
    "sc.pl.spatial(adata, color='leiden', spot_size=30, ncols = 1, cmap = 'turbo')"
   ]
  },
  {
   "cell_type": "markdown",
   "metadata": {},
   "source": [
    "# Dot plot"
   ]
  },
  {
   "cell_type": "code",
   "execution_count": null,
   "metadata": {
    "scrolled": false
   },
   "outputs": [],
   "source": [
    "adata.obs.leiden= adata.obs.leiden.astype(str)\n",
    "markers = adata.var.index\n",
    "sc.pl.dotplot(adata, markers,groupby= 'leiden', dendrogram=True, size_title=None)"
   ]
  },
  {
   "cell_type": "markdown",
   "metadata": {},
   "source": [
    "For running other weeks, the annotations from the supplementary figures can be used. Below we provide annotations for week 11 as it is the example dataset"
   ]
  },
  {
   "cell_type": "markdown",
   "metadata": {},
   "source": [
    "initial annotation for week 11"
   ]
  },
  {
   "cell_type": "code",
   "execution_count": null,
   "metadata": {},
   "outputs": [],
   "source": [
    "old_to_new = {\n",
    "    '0':'Endothelial',\n",
    "    '1':'S0X9+ epithelial',\n",
    "    '2':'Endothelial',\n",
    "    '3':'Mesenchymal',\n",
    "    '4':'Endothelial',\n",
    "    '5':'Mesenchymal',\n",
    "    '6':'Proliferating mesenchymal',\n",
    "    '7':'Mesenchymal',\n",
    "    '8':'Mesenchymal',\n",
    "    '9':'Artifact',\n",
    "    '10':'Mesenchymal',\n",
    "    '11':'Lymphathic endothelial',\n",
    "    '12':'SOX2+ epithelial',\n",
    "    '13':'SOX2+ epithelial',\n",
    "    '14':'Smooth muscle',\n",
    "    '15':'Endothelial',\n",
    "    '16':'Immune',\n",
    "    '17':'Neuronal',\n",
    "    '18':'Immune',\n",
    "    '19':'Chondroblast',\n",
    "    '20':'Mesenchymal',\n",
    "    '21':'Artifact',\n",
    "    '22':'SOX9+ epithelial',\n",
    "    '23':'Smooth muscle',\n",
    "    '24':'Mesenchymal',\n",
    "    '25':'Vascular smooth muscle',\n",
    "    '26':'Mesenchymal',\n",
    "    '27':'Immune',\n",
    "    '28':'Mesenchymal',\n",
    "    '29':'Artefact',\n",
    "    '30':'Artefact',\n",
    "    '31':'Artefact',\n",
    "    '32':'Artefact'\n",
    "\n",
    "}\n",
    "adata.obs['annotation'] = adata.obs['leiden'].map(old_to_new)"
   ]
  },
  {
   "cell_type": "markdown",
   "metadata": {},
   "source": [
    "# REMOVING ARTEFACT CLUSTERS"
   ]
  },
  {
   "cell_type": "markdown",
   "metadata": {},
   "source": [
    "removing artefact clusters"
   ]
  },
  {
   "cell_type": "code",
   "execution_count": null,
   "metadata": {},
   "outputs": [],
   "source": [
    "adata_new = adata[~adata.obs['leiden'].isin(['9','21','29','30','31','32']),:].copy()"
   ]
  },
  {
   "cell_type": "markdown",
   "metadata": {},
   "source": [
    "reclustering"
   ]
  },
  {
   "cell_type": "code",
   "execution_count": null,
   "metadata": {
    "scrolled": true
   },
   "outputs": [],
   "source": [
    "sc.tl.pca(adata_new)\n",
    "sc.pp.neighbors(adata_new,n_neighbors= 10)\n",
    "sc.tl.umap(adata_new,min_dist= 0.1, spread= 0.3, negative_sample_rate= 4)\n",
    "sc.tl.leiden(adata_new,resolution=1,key_added='leiden_sub')\n",
    "sc.pl.umap(adata_new, color='leiden_sub')"
   ]
  },
  {
   "cell_type": "markdown",
   "metadata": {},
   "source": [
    "For running other weeks, the annotations from the supplementary figures can be used. Below we provide annotations for week 11 as it is the example dataset"
   ]
  },
  {
   "cell_type": "markdown",
   "metadata": {},
   "source": [
    "annotations after excluding artifacts for week 11"
   ]
  },
  {
   "cell_type": "code",
   "execution_count": null,
   "metadata": {},
   "outputs": [],
   "source": [
    "old_to_new = {\n",
    "    '0':'Vim+ mes.',\n",
    "    '1':'Vim+ mes.',\n",
    "    '2':'Endothelial',\n",
    "    '3':'SOX2 high epit.',\n",
    "    '4':'Endothelial',\n",
    "    '5':'Endothelial',\n",
    "    '6':'SOX9 high epit.',\n",
    "    '7':'Neuronal',\n",
    "    '8':'Lymp.endo.',\n",
    "    '9':'Vim+ mes.',\n",
    "    '10':'Ki67+ mes.',\n",
    "    '11':'Vim+ mes.',\n",
    "    '12':'SOX9 high epit.',\n",
    "    '13':'Immune',\n",
    "    '14':'Immune',\n",
    "    '15':'Vim+ mes.',\n",
    "    '16':'Air. fibro.',\n",
    "    '17':'Chondroblast',\n",
    "    '18':'Adv. fibro.',\n",
    "    '19':'Ki67+ mes.',\n",
    "    '20':'ASM',\n",
    "    '21':'Vim+ mes.',\n",
    "    '22':'Vim+ mes.',\n",
    "    '23':'VSM',\n",
    "    '24':'SOX9 high epit.',\n",
    "    '25':'Air. fibro.',\n",
    "    '26':'Immune',\n",
    "    '27':'Vim+ mes.',\n",
    "    '28':'Neuronal',\n",
    "    '29':'SOX2 high epit.',\n",
    "    '30':'Endothelial',\n",
    "    '31':'Endothelial',\n",
    "    '32':'Endothelial',\n",
    "\n",
    "}\n",
    "adata_new.obs['annotation'] = adata_new.obs['leiden_sub'].map(old_to_new)"
   ]
  },
  {
   "cell_type": "code",
   "execution_count": null,
   "metadata": {},
   "outputs": [],
   "source": [
    "adata_new.uns['annotation_colors'] = ['#e6194b', '#3cb44b', '#9A6324', '#4363d8', '#f58231', '#911eb4', '#46f0f0', '#f032e6', '#bcf60c', '#fabebe', '#008080','#a9a9a9', '#e6beff']"
   ]
  },
  {
   "cell_type": "code",
   "execution_count": null,
   "metadata": {},
   "outputs": [],
   "source": [
    "sc.pl.spatial(adata_new, color='annotation', spot_size=30, ncols = 1, cmap = 'turbo')"
   ]
  },
  {
   "cell_type": "code",
   "execution_count": null,
   "metadata": {
    "scrolled": false
   },
   "outputs": [],
   "source": [
    "sc.pl.umap(adata_new, color='annotation')"
   ]
  },
  {
   "cell_type": "markdown",
   "metadata": {},
   "source": [
    "dot plot with the annotations"
   ]
  },
  {
   "cell_type": "code",
   "execution_count": null,
   "metadata": {},
   "outputs": [],
   "source": [
    "sc.tl.dendrogram(adata_new,groupby='annotation')\n",
    "adata_new.obs.leiden= adata_new.obs.leiden.astype(str)\n",
    "markers = adata_new.var.index\n",
    "sc.pl.dotplot(adata_new, markers,groupby= 'annotation', dendrogram=True, size_title=None,save='annotated_dotplot.pdf')"
   ]
  },
  {
   "cell_type": "markdown",
   "metadata": {},
   "source": [
    "writing a csv file after artefact cluster removal, this csv will be used in the next section."
   ]
  },
  {
   "cell_type": "code",
   "execution_count": null,
   "metadata": {},
   "outputs": [],
   "source": [
    "t=adata_new.X\n",
    "pd.DataFrame(data=t, index=adata_new.obs_names, columns=adata_new.var_names).to_csv('11w_artefactremoved.csv')"
   ]
  },
  {
   "cell_type": "markdown",
   "metadata": {},
   "source": [
    "ASM cluster was reclustered for week 12 and 13. While running these datasets, you can perform this reclustering and integration of neuronal cells to main 'annotations'.You can integrate cluster 9 for week 12 and cluster 17 for week 13 as 'neuronal'."
   ]
  },
  {
   "cell_type": "markdown",
   "metadata": {},
   "source": [
    "isolating ASM cluster and reclustering it"
   ]
  },
  {
   "cell_type": "code",
   "execution_count": null,
   "metadata": {},
   "outputs": [],
   "source": [
    "#ASM = adata_new[adata_new.obs['annotation'].isin(['ASM'])]\n",
    "#reclustering ASM cluster\n",
    "#genes_to_keep = ['ACTA2', 'CD44', 'CD56','CD90','WT1']  # Add the names of the genes you want to keep\n",
    "#ASM =ASM[:, ASM.var_names.isin(genes_to_keep)]\n",
    "#sc.tl.pca(ASM)\n",
    "#sc.pp.neighbors(ASM,n_neighbors= 10)\n",
    "#sc.tl.umap(ASM,min_dist= 0.1, spread= 0.3, negative_sample_rate= 4)\n",
    "#sc.tl.leiden(ASM,resolution=0.4,key_added='leiden_asm')\n",
    "#sc.pl.umap(ASM, color='leiden_asm',legend_loc= 'on data')\n",
    "#dotplot\n",
    "#sc.tl.dendrogram(ASM,groupby='leiden_asm')\n",
    "#ASM.obs.leiden_asm= ASM.obs.leiden_asm.astype(str)\n",
    "#markers = ASM.var.index\n",
    "#sc.pl.dotplot(ASM, markers,groupby= 'leiden_asm', dendrogram=True, size_title=None)"
   ]
  },
  {
   "cell_type": "markdown",
   "metadata": {},
   "source": [
    "integrating neuronal cell cluster (#9) to the annotations"
   ]
  },
  {
   "cell_type": "code",
   "execution_count": null,
   "metadata": {},
   "outputs": [],
   "source": [
    "#ASM.obs.to_csv('13w_ASM.csv')\n",
    "#ASM_csv= pd.read_table('/Users/sanem.sanyar/Python_squidpy_analysis/fetallung_analysis_python/14w/13w_ASM.csv',sep=',')"
   ]
  },
  {
   "cell_type": "markdown",
   "metadata": {},
   "source": [
    "updating the annotations with neuronal cells \n",
    "Filter cell IDs from ASM_csv where 'leiden_asm' column equals 17"
   ]
  },
  {
   "cell_type": "code",
   "execution_count": null,
   "metadata": {},
   "outputs": [],
   "source": [
    "#selected_cell_ids = ASM_csv.loc[ASM_csv['leiden_asm'] == 17, 'cell_id']\n",
    "\n",
    "# Create a dictionary mapping selected cell IDs to the desired annotation (\"Neuronal\")\n",
    "#cell_id_to_annotation = dict(zip(selected_cell_ids, ['Neuronal'] * len(selected_cell_ids)))\n",
    "\n",
    "# Update 'annotation' column in adata_new2 using the map function\n",
    "#adata_new.obs['annotation'] = adata_new.obs['cell_id'].map(cell_id_to_annotation).combine_first(adata_new.obs['annotation'])"
   ]
  },
  {
   "cell_type": "markdown",
   "metadata": {},
   "source": [
    "# MARKER CORRELATION"
   ]
  },
  {
   "cell_type": "code",
   "execution_count": null,
   "metadata": {},
   "outputs": [],
   "source": [
    "import numba\n",
    "import pandas as pd\n",
    "import seaborn as sns\n",
    "import matplotlib.pyplot as plt"
   ]
  },
  {
   "cell_type": "markdown",
   "metadata": {},
   "source": [
    "update the path to the filepath that you saved above."
   ]
  },
  {
   "cell_type": "code",
   "execution_count": null,
   "metadata": {},
   "outputs": [],
   "source": [
    "data=pd.read_table('/Users/sanem.sanyar/Python_squidpy_analysis/fetallung_analysis_python/11w/11w_artefactremoved.csv',sep=',')"
   ]
  },
  {
   "cell_type": "code",
   "execution_count": null,
   "metadata": {},
   "outputs": [],
   "source": [
    "data = data.drop([\"Unnamed: 0\"], axis=1)\n",
    "data=data.reset_index()\n",
    "data = data.drop([\"index\"], axis=1)"
   ]
  },
  {
   "cell_type": "code",
   "execution_count": null,
   "metadata": {},
   "outputs": [],
   "source": [
    "markers = []\n",
    "#Getting the list of marker names\n",
    "markers = list(data.columns.values)\n"
   ]
  },
  {
   "cell_type": "markdown",
   "metadata": {},
   "source": [
    "calculating correlation values between markers"
   ]
  },
  {
   "cell_type": "code",
   "execution_count": null,
   "metadata": {},
   "outputs": [],
   "source": [
    "data = data[markers].corr()"
   ]
  },
  {
   "cell_type": "code",
   "execution_count": null,
   "metadata": {},
   "outputs": [],
   "source": [
    "plt.figure()\n",
    "fig1, ax1 = plt.subplots(figsize=(8,8))\n",
    "sns_heatmap = sns.heatmap(data, annot=True, annot_kws={\"fontsize\":5}, fmt='.2f', cmap='coolwarm', vmin=-1, vmax=1, center = 0, square = False, linewidths=.1, cbar=False, ax=ax1)\n",
    "plt.savefig('11weekpvalues.pdf')"
   ]
  },
  {
   "cell_type": "code",
   "execution_count": null,
   "metadata": {
    "scrolled": false
   },
   "outputs": [],
   "source": [
    "sns_clustermap = sns.clustermap(data, figsize=(8,8))\n",
    "plt.savefig('11weekcorrelation.pdf')"
   ]
  },
  {
   "cell_type": "markdown",
   "metadata": {},
   "source": [
    "# Reclustering immune cells"
   ]
  },
  {
   "cell_type": "markdown",
   "metadata": {},
   "source": [
    "isolating immune cluster and reclustering it"
   ]
  },
  {
   "cell_type": "code",
   "execution_count": null,
   "metadata": {},
   "outputs": [],
   "source": [
    "# Select cells annotated as 'immune'\n",
    "immune_cells = adata_new[adata_new.obs['annotation'].isin(['Immune'])]\n",
    "\n"
   ]
  },
  {
   "cell_type": "markdown",
   "metadata": {},
   "source": [
    "reclustering immune cells"
   ]
  },
  {
   "cell_type": "code",
   "execution_count": null,
   "metadata": {},
   "outputs": [],
   "source": [
    "genes_to_keep = ['CD3', 'CD4', 'CD19','CD44','CD45','CD56','CD68','CD163','HLADR','KI67','MRC1']  # Add the names of the genes you want to keep\n",
    "\n",
    "\n",
    "immune_cells =immune_cells[:, immune_cells.var_names.isin(genes_to_keep)]"
   ]
  },
  {
   "cell_type": "code",
   "execution_count": null,
   "metadata": {},
   "outputs": [],
   "source": [
    "sc.tl.pca(immune_cells)\n",
    "\n",
    "\n",
    "sc.pp.neighbors(immune_cells,n_neighbors= 10)\n",
    "\n",
    "sc.tl.umap(immune_cells,min_dist= 0.1, spread= 0.3, negative_sample_rate= 4)\n",
    "\n",
    "sc.tl.leiden(immune_cells,resolution=0.2,key_added='leiden_imm')\n",
    "\n",
    "sc.pl.umap(immune_cells, color='leiden_imm',legend_loc= 'on data')\n"
   ]
  },
  {
   "cell_type": "code",
   "execution_count": null,
   "metadata": {},
   "outputs": [],
   "source": [
    "plt.ion()\n",
    "sc.settings.set_figure_params(dpi=150, fontsize=10)\n",
    "sc.pl.spatial(immune_cells, color='leiden_imm', spot_size=30, ncols = 1, cmap = 'turbo')"
   ]
  },
  {
   "cell_type": "code",
   "execution_count": null,
   "metadata": {
    "scrolled": true
   },
   "outputs": [],
   "source": [
    "sq.pl.spatial_scatter(immune_cells, shape=None, color='leiden_imm', connectivity_key=\"spatial_connectivities\",edges_width=0.4, size=3,crop_coord=[(10000, 10000, 15900, 19000)],library_id=None,edges_color='#5e5c5b')"
   ]
  },
  {
   "cell_type": "markdown",
   "metadata": {},
   "source": [
    "dot plots for the immune clusters"
   ]
  },
  {
   "cell_type": "code",
   "execution_count": null,
   "metadata": {},
   "outputs": [],
   "source": [
    "sc.tl.dendrogram(immune_cells,groupby='leiden_imm')\n",
    "immune_cells.obs.leiden_imm= immune_cells.obs.leiden_imm.astype(str)\n",
    "markers = immune_cells.var.index\n",
    "sc.pl.dotplot(immune_cells, markers,groupby= 'leiden_imm', dendrogram=True, size_title=None)"
   ]
  },
  {
   "cell_type": "markdown",
   "metadata": {},
   "source": [
    "annotating immune clusters based on dot plots. For the other weeks, the annotations for each cluster is provided in the supplementary figure."
   ]
  },
  {
   "cell_type": "code",
   "execution_count": null,
   "metadata": {},
   "outputs": [],
   "source": [
    "old_to_new2 = {\n",
    "    '0':'Macrophage',\n",
    "    '1':'Macrophage',\n",
    "    '2':'Macrophage',\n",
    "    '3':'Macrophage',\n",
    "    '4':'ILC2 & T cell',\n",
    "    '5':'ILC2 & T cell',\n",
    "    '6':'Macrophage',\n",
    "    '7':'Macrophage',\n",
    "    '8':'Dendritic cell',\n",
    "    \n",
    "}\n",
    "immune_cells.obs['imm_ann'] = immune_cells.obs['leiden_imm'].map(old_to_new2)\n",
    "immune_cells.obs['imm_ann'] = immune_cells.obs['imm_ann'].astype('category')"
   ]
  },
  {
   "cell_type": "markdown",
   "metadata": {},
   "source": [
    "dot plots for the annotated immune cells"
   ]
  },
  {
   "cell_type": "code",
   "execution_count": null,
   "metadata": {},
   "outputs": [],
   "source": [
    "sc.tl.dendrogram(immune_cells,groupby='imm_ann')\n",
    "immune_cells.obs.imm_ann= immune_cells.obs.imm_ann.astype(str)\n",
    "markers = immune_cells.var.index\n",
    "sc.pl.dotplot(immune_cells, markers,groupby= 'imm_ann', dendrogram=True, size_title=None,save='imm_dotplot.pdf')"
   ]
  },
  {
   "cell_type": "code",
   "execution_count": null,
   "metadata": {},
   "outputs": [],
   "source": [
    "immune_cells.obs['imm_ann_refined']=pd.Categorical((immune_cells.obs['imm_ann'].copy()).astype('category'))"
   ]
  },
  {
   "cell_type": "markdown",
   "metadata": {},
   "source": [
    "integrating CD19+ CD45+ B cells (selected manually from the segmented image). As B cells were very low in number we selected them manually based on the overlaid CD45 and CD19 images."
   ]
  },
  {
   "cell_type": "raw",
   "metadata": {},
   "source": [
    "For week 13: cell_ids_to_update = [268467,274310,296911,363858,369691,393399,460238,464134,483515,503403,550500,567669,578962,596497,650909,651772,652199,652969,653316,654142,654599,654754,672550,686894,686968,686976,687068,687433,687657,687967,688046,688689,690404,691830,751007,751597,752281,755006,777852,780942,780954,782777,839268,839504,839524,839957,840857,841722,842675,930918]\n",
    "\n"
   ]
  },
  {
   "cell_type": "code",
   "execution_count": null,
   "metadata": {},
   "outputs": [],
   "source": [
    "# List of cell IDs to be assigned \"B cell\" annotation\n",
    "cell_ids_to_update = [88818,89080,93154,95974,134998,142137,144827,150800,158249,158283,165963,201194,206374,214565,216697,218731,223325,231923,235643,258893,342895,368725,421475,425331,455036,457540,459825,483990,484131,485858,485877,487019,554400,555658,561378,639589,691107,696833,697404,708754,731412]\n",
    "\n",
    "\n",
    "# Check if \"B cell\" is a category in imm_ann_refined, and add it if not\n",
    "if \"B cell\" not in immune_cells.obs['imm_ann_refined'].cat.categories:\n",
    "    immune_cells.obs['imm_ann_refined'] = immune_cells.obs['imm_ann_refined'].cat.add_categories(\"B cell\")\n",
    "\n",
    "# Iterate through the list and update annotations to \"B cell\"\n",
    "for cell_id in cell_ids_to_update:\n",
    "    # Check if the cell ID exists in the immune_cells.obs DataFrame\n",
    "    if cell_id in immune_cells.obs['cell_id'].tolist():\n",
    "        # Update the annotation for the specific cell ID to \"B cell\"\n",
    "        immune_cells.obs.loc[immune_cells.obs['cell_id'] == cell_id, 'imm_ann_refined'] = \"B cell\"\n",
    "    else:\n",
    "        print(f\"Cell ID '{cell_id}' not found in the immune_cells.obs DataFrame.\")\n"
   ]
  },
  {
   "cell_type": "markdown",
   "metadata": {},
   "source": [
    "integrating CD45+ CD56+ NK cells (selected manually from the segmented image). As NK cells were low in number, we selected them manually based on the overlaid CD45 and CD56 images. NK cell_ids are provided for week 11, 12 and 13 in the data repository."
   ]
  },
  {
   "cell_type": "code",
   "execution_count": null,
   "metadata": {
    "scrolled": true
   },
   "outputs": [],
   "source": [
    "# List of cell IDs to be assigned \"NK cell\" annotation\n",
    "cell_ids_to_update = pd.read_table('/Users/sanem.sanyar/Python_squidpy_analysis/fetallung_analysis_python/11w/11w_NKcell_selection.csv',sep=',')\n",
    "cell_ids_to_update = cell_ids_to_update['cell_id'].to_list()\n",
    "\n",
    "# Check if \"B cell\" is a category in imm_ann_refined, and add it if not\n",
    "if \"NK cell\" not in immune_cells.obs['imm_ann_refined'].cat.categories:\n",
    "    immune_cells.obs['imm_ann_refined'] = immune_cells.obs['imm_ann_refined'].cat.add_categories(\"NK cell\")\n",
    "\n",
    "# Iterate through the list and update annotations to \"nk cell\"\n",
    "for cell_id in cell_ids_to_update:\n",
    "    # Check if the cell ID exists in the immune_cells.obs DataFrame\n",
    "    if cell_id in immune_cells.obs['cell_id'].tolist():\n",
    "        # Update the annotation for the specific cell ID to \"NK cell\"\n",
    "        immune_cells.obs.loc[immune_cells.obs['cell_id'] == cell_id, 'imm_ann_refined'] = \"NK cell\"\n",
    "    else:\n",
    "        print(f\"Cell ID '{cell_id}' not found in the immune_cells.obs DataFrame.\")\n"
   ]
  },
  {
   "cell_type": "code",
   "execution_count": null,
   "metadata": {},
   "outputs": [],
   "source": [
    "sc.tl.dendrogram(immune_cells,groupby='imm_ann_refined')\n",
    "immune_cells.obs.imm_ann= immune_cells.obs.imm_ann.astype('str')\n",
    "markers = immune_cells.var.index\n",
    "sc.pl.dotplot(immune_cells, markers,groupby= 'imm_ann_refined', dendrogram=True, size_title=None,save='dotplot_imm.pdf')"
   ]
  },
  {
   "cell_type": "code",
   "execution_count": null,
   "metadata": {},
   "outputs": [],
   "source": [
    "immune_cells.uns['imm_ann_refined_colors'] = ['#0000ff','#ffd700','#bc8f8f','#00bfff','#ff1493']"
   ]
  },
  {
   "cell_type": "code",
   "execution_count": null,
   "metadata": {},
   "outputs": [],
   "source": [
    "sc.pl.spatial(immune_cells, color='imm_ann_refined', spot_size=90, ncols = 1, cmap = 'turbo')"
   ]
  },
  {
   "cell_type": "markdown",
   "metadata": {},
   "source": [
    "creating the csv file for immune_cells"
   ]
  },
  {
   "cell_type": "code",
   "execution_count": null,
   "metadata": {},
   "outputs": [],
   "source": [
    "immune_cells.obs.to_csv('11w_immunecells.csv')"
   ]
  },
  {
   "cell_type": "markdown",
   "metadata": {},
   "source": [
    "reading it back to loop through the cell_ids and and annotations"
   ]
  },
  {
   "cell_type": "code",
   "execution_count": null,
   "metadata": {},
   "outputs": [],
   "source": [
    "immune_cells_csv= pd.read_table('/Users/sanem.sanyar/Python_squidpy_analysis/fetallung_analysis_python/11w/11w_immunecells.csv',sep=',')"
   ]
  },
  {
   "cell_type": "code",
   "execution_count": null,
   "metadata": {},
   "outputs": [],
   "source": [
    "immune_cells_csv"
   ]
  },
  {
   "cell_type": "markdown",
   "metadata": {},
   "source": [
    "# Proliferating immune cells"
   ]
  },
  {
   "cell_type": "code",
   "execution_count": null,
   "metadata": {},
   "outputs": [],
   "source": [
    "immune_cells.obs['imm_ann_pro']=pd.Categorical((immune_cells.obs['imm_ann_refined'].copy()).astype('category'))"
   ]
  },
  {
   "cell_type": "markdown",
   "metadata": {},
   "source": [
    "reading the proliferating cells which are selected via Perseus"
   ]
  },
  {
   "cell_type": "code",
   "execution_count": null,
   "metadata": {},
   "outputs": [],
   "source": [
    "dat_pro=pd.read_table('/Users/sanem.sanyar/Python_squidpy_analysis/fetallung_analysis_python/11w/11w_proliferation.csv',sep=',')"
   ]
  },
  {
   "cell_type": "code",
   "execution_count": null,
   "metadata": {},
   "outputs": [],
   "source": [
    "dat_pro"
   ]
  },
  {
   "cell_type": "markdown",
   "metadata": {},
   "source": [
    "tagging immune cells as 'proliferating' if they are in the proliferating cells list"
   ]
  },
  {
   "cell_type": "code",
   "execution_count": null,
   "metadata": {},
   "outputs": [],
   "source": [
    "proliferating_idx_imm = immune_cells.obs.cell_id.isin(dat_pro.cell_id)\n",
    "\n",
    "# Ensure imm_ann_pro is of type str\n",
    "immune_cells.obs['imm_ann_pro'] = immune_cells.obs['imm_ann_pro'].astype(str)\n",
    "\n",
    "prolif_res_imm = immune_cells.obs.loc[proliferating_idx_imm].imm_ann_pro.apply(lambda x: 'Proliferating ' + str(x))\n",
    "immune_cells.obs.loc[proliferating_idx_imm, 'imm_ann_pro'] = prolif_res_imm\n"
   ]
  },
  {
   "cell_type": "code",
   "execution_count": null,
   "metadata": {},
   "outputs": [],
   "source": [
    "immune_cells.obs['imm_ann_pro'] = immune_cells.obs['imm_ann_pro'].astype('category')"
   ]
  },
  {
   "cell_type": "code",
   "execution_count": null,
   "metadata": {},
   "outputs": [],
   "source": [
    "immune_cells.uns['imm_ann_pro_colors'] = ['#00bfff','#0000ff','#ffd700','#bc8f8f','#ff1493','#6495ed','#00ff00','#f8b4ff','#2e8b57','#ba55d3']"
   ]
  },
  {
   "cell_type": "markdown",
   "metadata": {},
   "source": [
    "calculating cell-cell adjacency"
   ]
  },
  {
   "cell_type": "code",
   "execution_count": null,
   "metadata": {},
   "outputs": [],
   "source": [
    "sq.gr.spatial_neighbors(immune_cells, n_neighs=10, coord_type=\"generic\")\n",
    "sq.pl.spatial_scatter(immune_cells, shape=None, color='imm_ann_pro', connectivity_key=\"spatial_connectivities\", size=2,figsize=(8, 6),library_id=None)"
   ]
  },
  {
   "cell_type": "markdown",
   "metadata": {},
   "source": [
    "plotting cell-cell adjacency spatial plots by cropping the tissue"
   ]
  },
  {
   "cell_type": "code",
   "execution_count": null,
   "metadata": {},
   "outputs": [],
   "source": [
    "sq.pl.spatial_scatter(immune_cells, shape=None, color='imm_ann_pro',figsize=(8,6), connectivity_key=\"spatial_connectivities\",edges_width=0.8, size=20,crop_coord=[(5000, 5000, 10000, 10000)],library_id=None,edges_color='#5e5c5b')"
   ]
  },
  {
   "cell_type": "code",
   "execution_count": null,
   "metadata": {},
   "outputs": [],
   "source": [
    "sq.gr.nhood_enrichment(immune_cells, cluster_key=\"imm_ann_pro\")"
   ]
  },
  {
   "cell_type": "markdown",
   "metadata": {},
   "source": [
    "adding a dataframe to immune_cells.uns['imm_ann_pro_neighbours'] by combining the neighborhood enrichment counts for imm_ann_pro"
   ]
  },
  {
   "cell_type": "code",
   "execution_count": null,
   "metadata": {},
   "outputs": [],
   "source": [
    "immune_cells.uns['imm_ann_pro_neighbours']=pd.DataFrame(immune_cells.uns['imm_ann_pro_nhood_enrichment']['count'],index=np.unique(immune_cells.obs['imm_ann_pro']),columns=np.unique(immune_cells.obs['imm_ann_pro']))"
   ]
  },
  {
   "cell_type": "markdown",
   "metadata": {},
   "source": [
    "drawing a network using the immune_cells.uns['imm_ann_pro_neighbours'] dataframe"
   ]
  },
  {
   "cell_type": "code",
   "execution_count": null,
   "metadata": {},
   "outputs": [],
   "source": [
    "fig = draw_network(\n",
    "    adata=immune_cells,\n",
    "    node_key = 'imm_ann_pro',\n",
    "    adjacency_matrix_key= 'imm_ann_pro_neighbours',\n",
    "    font_size=30,\n",
    "    edge_weight = 5,\n",
    "    edge_weight_baseline=1,\n",
    "    dpi=150,\n",
    "    node_size_max=3000,\n",
    "    node_size_min=1000,\n",
    ")\n",
    "plt.savefig(\"11w_imm_celltocell_network.pdf\")"
   ]
  },
  {
   "cell_type": "markdown",
   "metadata": {},
   "source": [
    "integrating immune cell annotations to adata_new to be able to show adjacency of immune cells with other cell types"
   ]
  },
  {
   "cell_type": "code",
   "execution_count": null,
   "metadata": {},
   "outputs": [],
   "source": [
    "adata_new.obs['immune_ann']=pd.Categorical((adata_new.obs['annotation'].copy()).astype('category'))"
   ]
  },
  {
   "cell_type": "markdown",
   "metadata": {},
   "source": [
    "re-creating the csv file for immune_cells this time it will contain 'imm_ann_pro' column that we will loop through in the next part"
   ]
  },
  {
   "cell_type": "code",
   "execution_count": null,
   "metadata": {},
   "outputs": [],
   "source": [
    "immune_cells.obs.to_csv('11w_immunecells.csv')"
   ]
  },
  {
   "cell_type": "markdown",
   "metadata": {},
   "source": [
    "reading it back to loop through the cell_ids and and annotations"
   ]
  },
  {
   "cell_type": "code",
   "execution_count": null,
   "metadata": {},
   "outputs": [],
   "source": [
    "immune_cells_csv= pd.read_table('/Users/sanem.sanyar/Python_squidpy_analysis/fetallung_analysis_python/11w/11w_immunecells.csv',sep=',')"
   ]
  },
  {
   "cell_type": "code",
   "execution_count": null,
   "metadata": {},
   "outputs": [],
   "source": [
    "cell_id_to_subtype = dict(zip(immune_cells_csv['cell_id'], immune_cells_csv['imm_ann_pro']))\n",
    "\n",
    "# Update 'arterialimm_subtypes' using the map function\n",
    "adata_new.obs['immune_ann'] = adata_new.obs['cell_id'].map(cell_id_to_subtype).combine_first(adata_new.obs['immune_ann'])\n"
   ]
  },
  {
   "cell_type": "code",
   "execution_count": null,
   "metadata": {},
   "outputs": [],
   "source": [
    "adata_new.obs['immune_ann']=pd.Categorical(adata_new.obs['immune_ann']).astype('category')"
   ]
  },
  {
   "cell_type": "markdown",
   "metadata": {},
   "source": [
    "calculating the adjacency and plotting it as a heatmap"
   ]
  },
  {
   "cell_type": "code",
   "execution_count": null,
   "metadata": {},
   "outputs": [],
   "source": [
    "sq.gr.spatial_neighbors(adata_new, key_added='spatial')\n",
    "sq.gr.spatial_neighbors(adata_new, radius=50, coord_type=\"generic\")\n",
    "sq.gr.nhood_enrichment(adata_new,cluster_key='immune_ann')\n",
    "sq.pl.nhood_enrichment(adata_new, cluster_key='immune_ann', method=\"ward\",mode='zscore',vmax=100,vmin=-100,cmap='coolwarm',show=False)\n"
   ]
  },
  {
   "cell_type": "markdown",
   "metadata": {},
   "source": [
    "# NEIGHBOURHOOD ANALYSIS"
   ]
  },
  {
   "cell_type": "markdown",
   "metadata": {},
   "source": [
    "# BANKSY"
   ]
  },
  {
   "cell_type": "markdown",
   "metadata": {},
   "source": [
    "reading the anndata with calculated banksy domains. This is calculated by the Jupyter notebook named as 'Domains_Banksy'. Here in this section we visualize the domains and annotate them according to the cell types that they contain"
   ]
  },
  {
   "cell_type": "code",
   "execution_count": null,
   "metadata": {},
   "outputs": [],
   "source": [
    "adata_domain = read_h5ad('100524_adata_11w_domains.h5ad')"
   ]
  },
  {
   "cell_type": "code",
   "execution_count": null,
   "metadata": {},
   "outputs": [],
   "source": [
    "sc.pl.spatial(adata_domain,spot_size=20,color='banksy_domain')"
   ]
  },
  {
   "cell_type": "markdown",
   "metadata": {},
   "source": [
    "heatmap showing marker expression in each domain"
   ]
  },
  {
   "cell_type": "code",
   "execution_count": null,
   "metadata": {},
   "outputs": [],
   "source": [
    "plt.ion()\n",
    "sc.settings.set_figure_params(dpi=150, fontsize=10)\n",
    "sc.pl.matrixplot(\n",
    "    adata_domain,\n",
    "    var_names = adata_domain.var.index,\n",
    "    groupby=\"banksy_domain\",\n",
    "    dendrogram=True,\n",
    "    cmap=\"coolwarm\",\n",
    "    vmin=-1,\n",
    "    vmax=1,\n",
    "    show=True\n",
    ")"
   ]
  },
  {
   "cell_type": "markdown",
   "metadata": {},
   "source": [
    "annotating the domains"
   ]
  },
  {
   "cell_type": "code",
   "execution_count": null,
   "metadata": {},
   "outputs": [],
   "source": [
    "banksy_map = {\n",
    "    \"0\": \"Endothelial-mesenchymal rich\",\n",
    "    \"1\": \"Mesenchymal-immune rich\",\n",
    "    \"2\": \"Mesenchymal rich\",\n",
    "    \"3\": \"SOX9high epithelial rich\",\n",
    "    \"4\": \"Mesenchymal rich\",\n",
    "    \"5\": \"Chondroblast rich\",\n",
    "    \"6\": \"SOX2high epithelial rich\",\n",
    "    \"7\": \"SOX9high epithelial rich\",\n",
    "    \"8\": \"ASM rich\",\n",
    "    \"9\": \"ASM rich\",\n",
    "    \"10\": \"Endothelial-mesenchymal rich\",\n",
    "   \n",
    "}\n",
    "\n",
    "adata_domain.obs['banksy_domain_annotation'] = adata_domain.obs['banksy_domain'].map(banksy_map)\n",
    "adata_domain.obs['banksy_domain_annotation'] = adata_domain.obs['banksy_domain_annotation'].astype('category')"
   ]
  },
  {
   "cell_type": "code",
   "execution_count": null,
   "metadata": {},
   "outputs": [],
   "source": [
    "sc.pl.spatial(adata_domain,spot_size=20,color='banksy_domain_annotation')"
   ]
  },
  {
   "cell_type": "code",
   "execution_count": null,
   "metadata": {},
   "outputs": [],
   "source": [
    "adata_domain.uns[\"banksy_domain_annotation_colors\"] = ['#C87FAA', '#6396dd', '#41030D', '#ffbc89', '#0000FF', '#657213', '#15e45b']"
   ]
  },
  {
   "cell_type": "code",
   "execution_count": null,
   "metadata": {},
   "outputs": [],
   "source": [
    "sc.pl.spatial(adata_domain,spot_size=20,color='banksy_domain_annotation')"
   ]
  },
  {
   "cell_type": "code",
   "execution_count": null,
   "metadata": {},
   "outputs": [],
   "source": [
    "adata_domain.obs[\"slide\"] = \"1\""
   ]
  },
  {
   "cell_type": "markdown",
   "metadata": {},
   "source": [
    "bar plots showing the cell types in each domain"
   ]
  },
  {
   "cell_type": "code",
   "execution_count": null,
   "metadata": {
    "scrolled": true
   },
   "outputs": [],
   "source": [
    "import seaborn as sns\n",
    "import matplotlib.pyplot as plt\n",
    "\n",
    "# Grouping and preparing data\n",
    "data = adata_domain.obs.groupby([\"annotation\", \"banksy_domain_annotation\"]).count().reset_index()\n",
    "\n",
    "# Creating FacetGrid\n",
    "g = sns.FacetGrid(\n",
    "    data=data,\n",
    "    hue=\"annotation\",\n",
    "    col=\"banksy_domain_annotation\",\n",
    "    col_wrap=2,\n",
    "    aspect=1.2,\n",
    "    palette=\"colorblind\",\n",
    "    sharex=False,\n",
    "    height=2,\n",
    ")\n",
    "\n",
    "# Mapping barplot to FacetGrid\n",
    "g.map(sns.barplot, \"annotation\", \"slide\")\n",
    "\n",
    "# Iterate over axes of FacetGrid\n",
    "for i, ax in enumerate(g.axes.flat):\n",
    "    # Making the x-axis labels smaller\n",
    "    labels = ax.get_xticklabels()  # get x labels\n",
    "    ax.set_xticklabels(labels, rotation=90, fontsize=6)  # set new labels with smaller fontsize\n",
    "    titles = ax.get_title()\n",
    "    titles = titles.replace(\"Banksy domain = \", \"\")\n",
    "    ax.set_title(titles, fontsize=8)  # Adjust title fontsize as needed\n",
    "    ax.set_ylabel(\"\", fontsize=8)  # Adjust y-axis label fontsize as needed\n",
    "    ax.set_xlabel(\"\", fontsize=8)  # Adjust x-axis label fontsize as needed\n",
    "\n",
    "plt.tight_layout()\n",
    "plt.savefig(\"zone_barplot.pdf\")"
   ]
  },
  {
   "cell_type": "markdown",
   "metadata": {},
   "source": [
    "pie charts for showing the cell types in each domain "
   ]
  },
  {
   "cell_type": "code",
   "execution_count": null,
   "metadata": {},
   "outputs": [],
   "source": [
    "import seaborn as sns\n",
    "import matplotlib.pyplot as plt\n",
    "import pandas as pd\n",
    "import numpy as np\n",
    "\n",
    "# Grouping and preparing data\n",
    "data = adata_domain.obs.groupby([\"banksy_domain_annotation\", \"annotation\"]).size().reset_index(name='count')\n",
    "\n",
    "# Define the annotation colors in alphabetical order\n",
    "annotation_colors = ['#e6194b', '#3cb44b', '#9A6324', '#4363d8', '#f58231', '#911eb4', '#46f0f0', '#f032e6', '#bcf60c', '#fabebe', '#008080', '#a9a9a9', '#e6beff']\n",
    "\n",
    "# Get unique annotations and sort them alphabetically\n",
    "sorted_annotations = sorted(adata_domain.obs['annotation'].unique())\n",
    "\n",
    "# Create a mapping of annotations to colors\n",
    "color_mapping = {annotation: color for annotation, color in zip(sorted_annotations, annotation_colors)}\n",
    "\n",
    "# Function to create pie charts\n",
    "def pie_chart(ax, data):\n",
    "    banksy_domain_annotation = data['banksy_domain_annotation'].iloc[0]\n",
    "    sizes = data['count']\n",
    "    labels = data['annotation']\n",
    "    total = sum(sizes)\n",
    "    percentages = [size / total * 100 for size in sizes]\n",
    "\n",
    "    # Sort the labels and percentages by descending order of percentages\n",
    "    sorted_labels_percentages = sorted(zip(labels, percentages), key=lambda x: x[1], reverse=True)\n",
    "    sorted_labels, sorted_percentages = zip(*sorted_labels_percentages)\n",
    "\n",
    "    colors = [color_mapping[label] for label in sorted_labels]\n",
    "\n",
    "    wedges, texts = ax.pie(sorted_percentages, startangle=140, colors=colors, wedgeprops=dict(width=0.3), radius=0.7)\n",
    "\n",
    "    ax.set_title(banksy_domain_annotation, fontsize=10)\n",
    "\n",
    "    # Add a custom legend\n",
    "    legend_elements = [\n",
    "        plt.Line2D([0], [0], marker='o', color='w', label=f'{label} ({pct:.1f}%)',\n",
    "                   markerfacecolor=color_mapping[label], markersize=10) for label, pct in sorted_labels_percentages\n",
    "    ]\n",
    "    ax.legend(handles=legend_elements, loc='upper center', bbox_to_anchor=(1.3, 0.5), fontsize=8, frameon=False)\n",
    "\n",
    "# Creating the layout\n",
    "unique_annotations = data['banksy_domain_annotation'].unique()\n",
    "num_annotations = len(unique_annotations)\n",
    "cols = 2\n",
    "rows = int(np.ceil(num_annotations / cols))\n",
    "\n",
    "fig, axes = plt.subplots(rows, cols, figsize=(12, rows * 4))\n",
    "\n",
    "for i, (ax, annotation) in enumerate(zip(axes.flatten(), unique_annotations)):\n",
    "    data_subset = data[data['banksy_domain_annotation'] == annotation]\n",
    "    pie_chart(ax, data_subset)\n",
    "\n",
    "# Remove any empty subplots\n",
    "for j in range(i + 1, rows * cols):\n",
    "    fig.delaxes(axes.flatten()[j])\n",
    "\n",
    "plt.tight_layout()\n",
    "plt.savefig(\"zone_piecharts.pdf\")\n",
    "plt.show()\n"
   ]
  },
  {
   "cell_type": "markdown",
   "metadata": {},
   "source": [
    "annotating the domains using domain numbers, for the other weeks than 11, you can find this information in the main figure."
   ]
  },
  {
   "cell_type": "code",
   "execution_count": null,
   "metadata": {},
   "outputs": [],
   "source": [
    "banksy_map = {\n",
    "    \"Endothelial-mesenchymal rich\": \"Domain 1\",\n",
    "    \"Mesenchymal-immune rich\": \"Domain 3\",\n",
    "    \"Mesenchymal rich\": \"Domain 2\",\n",
    "    \"Chondroblast rich\": \"Domain 7\",\n",
    "    \"SOX2high epithelial rich\": \"Domain 5\",\n",
    "    \"SOX9high epithelial rich\": \"Domain 6\",\n",
    "    \"ASM rich\": \"Domain 4\",\n",
    "   \n",
    "}\n",
    "\n",
    "adata_domain.obs['banksy_domain_numbers'] = adata_domain.obs['banksy_domain_annotation'].map(banksy_map)\n",
    "adata_domain.obs['banksy_domain_numbers'] = adata_domain.obs['banksy_domain_numbers'].astype('category')"
   ]
  },
  {
   "cell_type": "code",
   "execution_count": null,
   "metadata": {},
   "outputs": [],
   "source": [
    "adata_domain.obs['banksy_domain_annotation'].value_counts()"
   ]
  },
  {
   "cell_type": "code",
   "execution_count": null,
   "metadata": {},
   "outputs": [],
   "source": [
    "adata_domain.obs['banksy_domain_numbers'].value_counts()"
   ]
  },
  {
   "cell_type": "markdown",
   "metadata": {},
   "source": [
    "to check the dispersion of the domains you can run ripley's L."
   ]
  },
  {
   "cell_type": "code",
   "execution_count": null,
   "metadata": {},
   "outputs": [],
   "source": [
    "mode = \"L\"\n",
    "sq.gr.ripley(adata_domain, cluster_key=\"banksy_domain_numbers\", mode=mode, max_dist=500)\n",
    "sq.pl.ripley(adata_domain, cluster_key=\"banksy_domain_numbers\", mode=mode, save='11wripleysL.pdf')"
   ]
  },
  {
   "cell_type": "markdown",
   "metadata": {},
   "source": [
    "# cell to cell adjacency"
   ]
  },
  {
   "cell_type": "code",
   "execution_count": null,
   "metadata": {},
   "outputs": [],
   "source": [
    "sq.gr.spatial_neighbors(adata_new, radius=50, coord_type=\"generic\")\n",
    "sq.pl.spatial_scatter(adata_new, shape=None, color='annotation', connectivity_key=\"spatial_connectivities\", size=1,library_id=None,figsize=(8, 3))"
   ]
  },
  {
   "cell_type": "markdown",
   "metadata": {},
   "source": [
    "zoomed in regions for cell cell adjacency plots"
   ]
  },
  {
   "cell_type": "code",
   "execution_count": null,
   "metadata": {},
   "outputs": [],
   "source": [
    "sq.pl.spatial_scatter(adata_new, shape=None, color='annotation', connectivity_key=\"spatial_connectivities\", edges_width=0.6, size=0.4,library_id=None,edges_color='#5e5c5b',figsize=(8, 3))"
   ]
  },
  {
   "cell_type": "code",
   "execution_count": null,
   "metadata": {},
   "outputs": [],
   "source": [
    "sq.gr.nhood_enrichment(adata_new, cluster_key=\"annotation\")"
   ]
  },
  {
   "cell_type": "code",
   "execution_count": null,
   "metadata": {},
   "outputs": [],
   "source": [
    "sq.pl.nhood_enrichment(adata_new, cluster_key='annotation', method=\"ward\", mode='zscore', vmax=100, vmin=-100, cmap='coolwarm', show=False)"
   ]
  },
  {
   "cell_type": "markdown",
   "metadata": {},
   "source": [
    "# Proliferation"
   ]
  },
  {
   "cell_type": "code",
   "execution_count": null,
   "metadata": {},
   "outputs": [],
   "source": [
    "dat_pro=pd.read_table('/Users/sanem.sanyar/Python_squidpy_analysis/fetallung_analysis_python/11w/11w_proliferation.csv',sep=',')"
   ]
  },
  {
   "cell_type": "code",
   "execution_count": null,
   "metadata": {},
   "outputs": [],
   "source": [
    "dat_pro"
   ]
  },
  {
   "cell_type": "markdown",
   "metadata": {},
   "source": [
    "for the simplicity we changed the names of the subcell types (eg. Vim+mes.) to main cell types(eg. Mesenchymal)"
   ]
  },
  {
   "cell_type": "code",
   "execution_count": null,
   "metadata": {},
   "outputs": [],
   "source": [
    "proliferation_annotations = {\n",
    "    'Vim+ mes.':'Mesenchymal',        \n",
    "    'Endothelial':'Endothelial',\n",
    "    'SOX2 high epit.':'SOX2 high epit.',         \n",
    "    'Ki67+ mes.':'Mesenchymal',        \n",
    "    'SOX9 high epit.':'SOX9 high epit.',               \n",
    "    'Neuronal':'Mesenchymal',                  \n",
    "    'Air. fibro.':'Mesenchymal',       \n",
    "    'Lymp.endo.':'Lymp.endo.',      \n",
    "    'Immune':'Immune',                            \n",
    "    'Chondroblast':'Mesenchymal',              \n",
    "    'Adv. fibro.':'Mesenchymal',     \n",
    "    'ASM':'ASM',           \n",
    "    'VSM':'VSM',    \n",
    "      \n",
    "}\n",
    "adata_new.obs['proliferation'] = adata_new.obs['annotation'].map(proliferation_annotations)"
   ]
  },
  {
   "cell_type": "markdown",
   "metadata": {},
   "source": [
    "adding proliferation tag to the annotations based on the proliferating cell_ids"
   ]
  },
  {
   "cell_type": "code",
   "execution_count": null,
   "metadata": {},
   "outputs": [],
   "source": [
    "proliferating_idx = adata_new.obs.cell_id.isin(dat_pro.cell_id)\n",
    "\n",
    "prolif_res = adata_new.obs.loc[proliferating_idx].proliferation.apply(lambda x: 'Proliferating ' + x)\n",
    "adata_new.obs.loc[proliferating_idx, 'proliferation'] = prolif_res"
   ]
  },
  {
   "cell_type": "code",
   "execution_count": null,
   "metadata": {},
   "outputs": [],
   "source": [
    "sc.pl.spatial(adata_new, color='proliferation', spot_size=30, ncols = 1, color_map='viridis')"
   ]
  },
  {
   "cell_type": "markdown",
   "metadata": {},
   "source": [
    "calculating neighbors of proliferating cells"
   ]
  },
  {
   "cell_type": "code",
   "execution_count": null,
   "metadata": {},
   "outputs": [],
   "source": [
    "sq.gr.spatial_neighbors(adata_new, radius=50, coord_type=\"generic\")\n",
    "sq.gr.nhood_enrichment(adata_new, cluster_key=\"proliferation\")\n",
    "sq.pl.nhood_enrichment(adata_new, cluster_key='proliferation', method=\"ward\", mode='zscore', vmax=100, vmin=-100, cmap='coolwarm', show=False)"
   ]
  },
  {
   "cell_type": "code",
   "execution_count": null,
   "metadata": {},
   "outputs": [],
   "source": [
    "adata_new.uns['proliferating_neighbors']=pd.DataFrame(adata_new.uns['proliferation_nhood_enrichment']['count'],index=np.unique(adata_new.obs['proliferation']),columns=np.unique(adata_new.obs['proliferation']))"
   ]
  },
  {
   "cell_type": "code",
   "execution_count": null,
   "metadata": {},
   "outputs": [],
   "source": [
    "plt.figure()\n",
    "fig1, ax1 = plt.subplots(figsize=(7,5))\n",
    "sns_heatmap = sns.heatmap(adata_new.uns['proliferating_neighbors'], annot=True, annot_kws={\"fontsize\":5}, fmt='.2f', cmap='Spectral', vmin=-1, vmax=1, center = 0, square = False, linewidths=.1, cbar=False, ax=ax1)\n",
    "\n",
    "\n",
    "sns_clustermap = sns.clustermap(adata_new.uns['proliferating_neighbors'],cmap='coolwarm', figsize=(8,8),vmin=-915, vmax=915)\n",
    "plt.savefig('11week_cellcell_prolif.pdf')"
   ]
  },
  {
   "cell_type": "markdown",
   "metadata": {},
   "source": [
    "# arterial immune cells"
   ]
  },
  {
   "cell_type": "markdown",
   "metadata": {},
   "source": [
    "This part is performed for week 11,12 and 13. "
   ]
  },
  {
   "cell_type": "markdown",
   "metadata": {},
   "source": [
    "Arterial immune cell selection is done manually and cell_ids are provided in the data repository."
   ]
  },
  {
   "cell_type": "code",
   "execution_count": null,
   "metadata": {},
   "outputs": [],
   "source": [
    "arterial_imm=pd.read_table('/Users/sanem.sanyar/Python_squidpy_analysis/fetallung_analysis_python/11w/11w_arterial_immune.csv',sep=',')"
   ]
  },
  {
   "cell_type": "markdown",
   "metadata": {},
   "source": [
    "for the simplicity we changed the names of the subcell types (eg. Vim+mes.) to main cell types(eg. Mesenchymal)"
   ]
  },
  {
   "cell_type": "code",
   "execution_count": null,
   "metadata": {},
   "outputs": [],
   "source": [
    "arterialimm_annotations = {\n",
    "    'Vim+ mes.':'Mesenchymal',        \n",
    "    'Endothelial':'Endothelial',\n",
    "    'SOX2 high epit.':'SOX2 high epit.',         \n",
    "    'Ki67+ mes.':'Mesenchymal',        \n",
    "    'SOX9 high epit.':'SOX9 high epit.',                  \n",
    "    'Neuronal':'Neuronal',                  \n",
    "    'Air. fibro.':'Mesenchymal',       \n",
    "    'Lymp.endo.':'Lymp. endo.',      \n",
    "    'Immune':'Immune',                             \n",
    "    'Chondroblast':'Chondroblast',              \n",
    "    'Adv. fibro.':'Mesenchymal',     \n",
    "    'ASM':'ASM',           \n",
    "    'VSM':'VSM',    \n",
    "}\n",
    "adata_new.obs['arterialimm'] = adata_new.obs['annotation'].map(arterialimm_annotations)"
   ]
  },
  {
   "cell_type": "markdown",
   "metadata": {},
   "source": [
    "adding 'arterial' tag the selected arterial immune cells"
   ]
  },
  {
   "cell_type": "code",
   "execution_count": null,
   "metadata": {},
   "outputs": [],
   "source": [
    "arterialimm_idx = adata_new.obs.cell_id.isin(arterial_imm.cell_id)\n",
    "\n",
    "arterialimm_res = adata_new.obs.loc[arterialimm_idx].arterialimm.apply(lambda x: 'Arterial ' + str(x))\n",
    "adata_new.obs.loc[arterialimm_idx, 'arterialimm'] = arterialimm_res"
   ]
  },
  {
   "cell_type": "code",
   "execution_count": null,
   "metadata": {},
   "outputs": [],
   "source": [
    "sc.pl.spatial(adata_new, color='arterialimm', spot_size=30, ncols = 1, color_map='viridis')"
   ]
  },
  {
   "cell_type": "markdown",
   "metadata": {},
   "source": [
    "some selected arterial immune cells are from endothelial and mesenchymal clusters. Therefore we exclude these cells from the analysis for arterial immune cells. In order to not exclude cells from adata_new, we copy it and rename it as adata_new_imm"
   ]
  },
  {
   "cell_type": "code",
   "execution_count": null,
   "metadata": {},
   "outputs": [],
   "source": [
    "adata_new_imm = adata_new[~adata_new.obs['arterialimm'].isin(['Arterial Endothelial','Arterial Mesenchymal']),:].copy()"
   ]
  },
  {
   "cell_type": "code",
   "execution_count": null,
   "metadata": {},
   "outputs": [],
   "source": [
    "sc.pl.spatial(adata_new_imm, color='arterialimm', spot_size=30, ncols = 1,color_map='viridis')"
   ]
  },
  {
   "cell_type": "code",
   "execution_count": null,
   "metadata": {},
   "outputs": [],
   "source": [
    "adata_new_imm.uns['arterialimm_colors'] = ['#2c6fcd','#009905','#2ff7f7','#f96d00','#d50104','#15e45b','#ffbc89','#0044f9','#00b3dc','#fe8a8b','#8e0002','#193f75']"
   ]
  },
  {
   "cell_type": "markdown",
   "metadata": {},
   "source": [
    "volcano plot for Immune vs arterial immune"
   ]
  },
  {
   "cell_type": "code",
   "execution_count": null,
   "metadata": {},
   "outputs": [],
   "source": [
    "import pandas as pd\n",
    "import numpy as np\n",
    "import matplotlib.pyplot as plt\n",
    "\n",
    "import hvplot.pandas\n",
    "def rank_genes_groups_df(adata, group, pval_cutoff : float =None, logfc_cutoff=None): \n",
    "    d = pd.DataFrame() \n",
    "    for k in ['scores', 'names', 'logfoldchanges', 'pvals', 'pvals_adj']: \n",
    "        d[k] = adata.uns[\"rank_genes_groups\"][k][group] \n",
    "    if pval_cutoff is not None: \n",
    "        d = d[d[\"pvals_adj\"] < pval_cutoff] \n",
    "    if logfc_cutoff is not None: \n",
    "        d = d[d[\"logfoldchanges\"].abs() > logfc_cutoff] \n",
    "    return d\n",
    "\n",
    "sc.tl.rank_genes_groups(adata_new, 'arterialimm', groups=['Arterial Immune'], reference='Immune', method='wilcoxon', n_genes=adata_new.var_names.size,corr_method='benjamini-hochberg')\n",
    "de_df = rank_genes_groups_df(adata_new, \"Arterial Immune\")\n",
    "\n",
    "# Calculate -log10 of the adjusted p-values\n",
    "de_df['minus_log10_pvals_adj'] = -np.log10(de_df['pvals_adj'])\n",
    "\n",
    "# Define thresholds for significant points\n",
    "significant_thresh = 0.05  # Example threshold for adjusted p-values\n",
    "logfc_thresh = 1.0         # Example threshold for log fold change\n",
    "\n",
    "# Create the volcano plot\n",
    "plt.figure(figsize=(10, 8))  # You can adjust the figure size to fit your needs\n",
    "plt.scatter(\n",
    "    de_df['logfoldchanges'],\n",
    "    de_df['minus_log10_pvals_adj'],\n",
    "    color=np.where((de_df['pvals_adj'] < significant_thresh) & (de_df['logfoldchanges'].abs() > logfc_thresh), 'red', 'gray'),\n",
    "    alpha=1,\n",
    "    s=200\n",
    ")\n",
    "\n",
    "# Annotations for significant genes\n",
    "significant = de_df[(de_df['pvals_adj'] < significant_thresh) & (de_df['logfoldchanges'].abs() > logfc_thresh)]\n",
    "for i, row in significant.iterrows():\n",
    "    plt.text(row['logfoldchanges'], row['minus_log10_pvals_adj'], row['names'], fontsize=9, rotation=45, ha='right')\n",
    "\n",
    "# Adding labels and title\n",
    "plt.title('Volcano Plot of Differential Expression')\n",
    "plt.xlabel('Log Fold Change')\n",
    "plt.ylabel('-log10(Adjusted P-value)')\n",
    "\n",
    "# Add grid for better readability and visual appeal\n",
    "plt.grid(True)\n",
    "\n",
    "# Display the plot\n",
    "plt.savefig('arterial_volcano.pdf')\n",
    "plt.show()"
   ]
  },
  {
   "cell_type": "markdown",
   "metadata": {},
   "source": [
    "integrating immune cell subtypes to the arterial immune cell analysis (for detailed analysis)"
   ]
  },
  {
   "cell_type": "code",
   "execution_count": null,
   "metadata": {},
   "outputs": [],
   "source": [
    "adata_new.obs['arterialimm_subtypes']=pd.Categorical((adata_new.obs['arterialimm'].copy()).astype('category'))"
   ]
  },
  {
   "cell_type": "code",
   "execution_count": null,
   "metadata": {},
   "outputs": [],
   "source": [
    "immune_cells_csv= pd.read_table('/Users/sanem.sanyar/Python_squidpy_analysis/fetallung_analysis_python/11w/11w_immunecells.csv',sep=',')"
   ]
  },
  {
   "cell_type": "markdown",
   "metadata": {},
   "source": [
    "updating the arterialimm_subtypes with immune subtypes."
   ]
  },
  {
   "cell_type": "code",
   "execution_count": null,
   "metadata": {},
   "outputs": [],
   "source": [
    "cell_id_to_subtype = dict(zip(immune_cells_csv['cell_id'], immune_cells_csv['imm_ann_pro']))\n",
    "\n",
    "# Update 'arterialimm_subtypes' using the map function\n",
    "adata_new.obs['arterialimm_subtypes'] = adata_new.obs['cell_id'].map(cell_id_to_subtype).combine_first(adata_new.obs['arterialimm_subtypes'])\n"
   ]
  },
  {
   "cell_type": "markdown",
   "metadata": {},
   "source": [
    "adding \"arterial\" tag to the immune subcell types"
   ]
  },
  {
   "cell_type": "code",
   "execution_count": null,
   "metadata": {},
   "outputs": [],
   "source": [
    "\n",
    "arterialimm_idx = adata_new.obs.cell_id.isin(arterial_imm.cell_id)\n",
    "\n",
    "arterialimm_res = adata_new.obs.loc[arterialimm_idx].arterialimm_subtypes.apply(lambda x: 'Arterial ' + x)\n",
    "adata_new.obs.loc[arterialimm_idx, 'arterialimm_subtypes'] = arterialimm_res"
   ]
  },
  {
   "cell_type": "markdown",
   "metadata": {},
   "source": [
    "preparation for selecting random immune cells"
   ]
  },
  {
   "cell_type": "code",
   "execution_count": null,
   "metadata": {},
   "outputs": [],
   "source": [
    "adata_new_imm.obs.to_csv('11w_obs_adatanew_imm.csv')"
   ]
  },
  {
   "cell_type": "code",
   "execution_count": null,
   "metadata": {},
   "outputs": [],
   "source": [
    "arterial_obs = pd.read_table('/Users/sanem.sanyar/Python_squidpy_analysis/fetallung_analysis_python/11w/11w_obs_adatanew_imm.csv',sep=',')"
   ]
  },
  {
   "cell_type": "code",
   "execution_count": null,
   "metadata": {
    "scrolled": true
   },
   "outputs": [],
   "source": [
    "arterial_obs"
   ]
  },
  {
   "cell_type": "markdown",
   "metadata": {},
   "source": [
    "# Quantification of neighbours of arterial immune cells and random immune cells"
   ]
  },
  {
   "cell_type": "markdown",
   "metadata": {},
   "source": [
    "this analysis was performed for week 11, 12 and 13."
   ]
  },
  {
   "cell_type": "markdown",
   "metadata": {},
   "source": [
    "change the cell_types list for corresponding week"
   ]
  },
  {
   "cell_type": "code",
   "execution_count": null,
   "metadata": {},
   "outputs": [],
   "source": [
    "import math\n",
    "cell_types = ['Immune', 'Endothelial', 'Mesenchymal',\n",
    "              'Chondroblast', 'Lymp. endo.',\n",
    "              'SOX2 high epit.', 'SOX9 high epit.', 'Neuronal',\n",
    "              'ASM', 'VSM',\n",
    "              'Arterial Immune']\n",
    "from cycler import cycler\n",
    "# Create distance bins\n",
    "distance_bins = np.arange(0, 51, 5)  # Adjust the bin width as needed\n",
    "bin_counts = np.zeros((len(cell_types), len(distance_bins) - 1))\n",
    "# Filter rows where ‘arterialimm’ is ‘Arterial Immune’\n",
    "arterial_immune_rows = arterial_obs[arterial_obs['arterialimm'] == 'Arterial Immune']\n",
    "for index, row in arterial_immune_rows.iterrows():\n",
    "    x1 = row['x']\n",
    "    y1 = row['y']\n",
    "    for _, big_data_row in arterial_obs.iterrows():\n",
    "        x2 = big_data_row['x']\n",
    "        y2 = big_data_row['y']\n",
    "        distance = math.sqrt((x1 - x2) ** 2 + (y1 - y2) ** 2) * 0.51\n",
    "        if distance > 50 or (x1 == x2 and y1 == y2):\n",
    "            continue\n",
    "        cell_type = big_data_row['arterialimm']\n",
    "        if cell_type in cell_types:\n",
    "            ct_index = cell_types.index(cell_type)\n",
    "            bin_index = np.digitize(distance, distance_bins) - 1\n",
    "            bin_counts[ct_index, bin_index] += 1\n",
    "# Calculate percentages\n",
    "total_cells = bin_counts.sum(axis=0)\n",
    "percentage_data = (bin_counts / total_cells) * 100\n",
    "\n",
    "# Save percentage data to a CSV file\n",
    "percentage_df = pd.DataFrame(percentage_data, index=cell_types, columns=distance_bins[:-1])\n",
    "percentage_df.to_csv('percentage_values_arterial.csv')\n",
    "\n",
    "\n",
    "# Create a custom color cycle for unique colors for all cell types\n",
    "unique_colors = plt.cm.tab20.colors  # You can choose any colormap or set of colors\n",
    "custom_color_cycle = cycler(color=unique_colors)\n",
    "\n",
    "# Apply the custom color cycle to the plot\n",
    "plt.rc('axes', prop_cycle=custom_color_cycle)\n",
    "\n",
    "# Plot the histogram\n",
    "for ct_index, cell_type in enumerate(cell_types):\n",
    "    plt.plot(distance_bins[:-1], percentage_data[ct_index], label=cell_type)\n",
    "\n",
    "plt.xlabel('Distance')\n",
    "plt.ylabel('Percentage of Cells (%)')\n",
    "plt.title('Cell Type Percentages in Distance Bins')\n",
    "plt.legend(loc='center left', bbox_to_anchor=(1, 0.5))\n",
    "\n",
    "# Save the figure as a PDF\n",
    "plt.savefig('11pcw_arterial_neighbours.pdf')\n",
    "plt.show()\n",
    "\n"
   ]
  },
  {
   "cell_type": "markdown",
   "metadata": {},
   "source": [
    "this analysis was performed for week 11, 12 and 13.There were in total, 365, 68 and 45 arterial immune cells respectively for these weeks. As the example code provided is for 11 week, here we select 365 cells for these analysis. You can change them according to the weeks you perform analysis on."
   ]
  },
  {
   "cell_type": "markdown",
   "metadata": {},
   "source": [
    "# Quantification of the neighbours of randomly picked cells (to compare with arterial cells)"
   ]
  },
  {
   "cell_type": "code",
   "execution_count": null,
   "metadata": {},
   "outputs": [],
   "source": [
    "from random import sample\n",
    "\n",
    "np.random.seed(100)\n",
    "\n",
    "random_cells = arterial_obs.take(np.random.permutation(len(arterial_obs))[:365])\n",
    "\n",
    "random_cells\n"
   ]
  },
  {
   "cell_type": "markdown",
   "metadata": {},
   "source": [
    "change the cell_types list for corresponding week"
   ]
  },
  {
   "cell_type": "code",
   "execution_count": null,
   "metadata": {},
   "outputs": [],
   "source": [
    "import math\n",
    "cell_types = ['Immune', 'Endothelial', 'Mesenchymal',\n",
    "              'Chondroblast', 'Lympathic endothelial', 'Epithelial(luminal)',\n",
    "              'SOX2+ epithelial', 'SOX9+ epithelial', 'Neuronal',\n",
    "              'Airway smooth muscle', 'Vascular smooth muscle',\n",
    "              'Arterial Immune']\n",
    "\n",
    "\n",
    "from cycler import cycler\n",
    "# Create distance bins\n",
    "distance_bins = np.arange(0, 51, 5)  # Adjust the bin width as needed\n",
    "bin_counts = np.zeros((len(cell_types), len(distance_bins) - 1))\n",
    "for index, row in random_cells.iterrows():\n",
    "    x1 = row['x']\n",
    "    y1 = row['y']\n",
    "    for _, big_data_row in arterial_obs.iterrows():\n",
    "        x2 = big_data_row['x']\n",
    "        y2 = big_data_row['y']\n",
    "        distance = math.sqrt((x1 - x2) ** 2 + (y1 - y2) ** 2) * 0.51\n",
    "        if distance > 50 or (x1 == x2 and y1 == y2):\n",
    "            continue\n",
    "        cell_type = big_data_row['arterialimm']\n",
    "        if cell_type in cell_types:\n",
    "            ct_index = cell_types.index(cell_type)\n",
    "            bin_index = np.digitize(distance, distance_bins) - 1\n",
    "            bin_counts[ct_index, bin_index] += 1\n",
    "# Calculate percentages\n",
    "total_cells = bin_counts.sum(axis=0)\n",
    "percentage_data = (bin_counts / total_cells) * 100\n",
    "\n",
    "# Save percentage data to a CSV file\n",
    "percentage_df = pd.DataFrame(percentage_data, index=cell_types, columns=distance_bins[:-1])\n",
    "percentage_df.to_csv('percentage_values_random.csv')\n",
    "\n",
    "# Create a custom color cycle for unique colors for all cell types\n",
    "unique_colors = plt.cm.tab20.colors  # You can choose any colormap or set of colors\n",
    "custom_color_cycle = cycler(color=unique_colors)\n",
    "\n",
    "# Apply the custom color cycle to the plot\n",
    "plt.rc('axes', prop_cycle=custom_color_cycle)\n",
    "\n",
    "# Plot the histogram\n",
    "for ct_index, cell_type in enumerate(cell_types):\n",
    "    plt.plot(distance_bins[:-1], percentage_data[ct_index], label=cell_type)\n",
    "\n",
    "plt.xlabel('Distance')\n",
    "plt.ylabel('Percentage of Cells (%)')\n",
    "plt.title('Cell Type Percentages in Distance Bins')\n",
    "plt.legend(loc='center left', bbox_to_anchor=(1, 0.5))\n",
    "\n",
    "# Save the figure as a PDF\n",
    "plt.savefig('11pcw_randomcell_neighbours.pdf')\n",
    "plt.show()\n",
    "\n"
   ]
  },
  {
   "cell_type": "markdown",
   "metadata": {},
   "source": [
    "# Quantification of the neighbors of randomly picked immune cells."
   ]
  },
  {
   "cell_type": "code",
   "execution_count": null,
   "metadata": {
    "scrolled": true
   },
   "outputs": [],
   "source": [
    "immune_rows = arterial_obs[arterial_obs['arterialimm'] == 'Immune']\n",
    "\n",
    "np.random.seed(100)\n",
    "\n",
    "random_imm_cells = immune_rows.take(np.random.permutation(len(immune_rows))[:365])\n",
    "\n",
    "random_imm_cells\n"
   ]
  },
  {
   "cell_type": "code",
   "execution_count": null,
   "metadata": {},
   "outputs": [],
   "source": [
    "from cycler import cycler\n",
    "# Create distance bins\n",
    "distance_bins = np.arange(0, 51, 5)  # Adjust the bin width as needed\n",
    "bin_counts = np.zeros((len(cell_types), len(distance_bins) - 1))\n",
    "for index, row in random_imm_cells.iterrows():\n",
    "    x1 = row['x']\n",
    "    y1 = row['y']\n",
    "    for _, big_data_row in arterial_obs.iterrows():\n",
    "        x2 = big_data_row['x']\n",
    "        y2 = big_data_row['y']\n",
    "        distance = math.sqrt((x1 - x2) ** 2 + (y1 - y2) ** 2) * 0.51\n",
    "        if distance > 50 or (x1 == x2 and y1 == y2):\n",
    "            continue\n",
    "        cell_type = big_data_row['arterialimm']\n",
    "        if cell_type in cell_types:\n",
    "            ct_index = cell_types.index(cell_type)\n",
    "            bin_index = np.digitize(distance, distance_bins) - 1\n",
    "            bin_counts[ct_index, bin_index] += 1\n",
    "# Calculate percentages\n",
    "total_cells = bin_counts.sum(axis=0)\n",
    "percentage_data = (bin_counts / total_cells) * 100\n",
    "\n",
    "# Save percentage data to a CSV file\n",
    "percentage_df = pd.DataFrame(percentage_data, index=cell_types, columns=distance_bins[:-1])\n",
    "percentage_df.to_csv('percentage_values_random_imm.csv')\n",
    "\n",
    "# Create a custom color cycle for unique colors for all cell types\n",
    "unique_colors = plt.cm.tab20.colors  # You can choose any colormap or set of colors\n",
    "custom_color_cycle = cycler(color=unique_colors)\n",
    "\n",
    "# Apply the custom color cycle to the plot\n",
    "plt.rc('axes', prop_cycle=custom_color_cycle)\n",
    "\n",
    "# Plot the histogram\n",
    "for ct_index, cell_type in enumerate(cell_types):\n",
    "    plt.plot(distance_bins[:-1], percentage_data[ct_index], label=cell_type)\n",
    "\n",
    "plt.xlabel('Distance')\n",
    "plt.ylabel('Percentage of Cells (%)')\n",
    "plt.title('Cell Type Percentages in Distance Bins')\n",
    "plt.legend(loc='center left', bbox_to_anchor=(1, 0.5))\n",
    "\n",
    "# Save the figure as a PDF\n",
    "plt.savefig('11pcw_randomimmune_neighbours.pdf')\n",
    "plt.show()\n",
    "\n",
    "\n"
   ]
  },
  {
   "cell_type": "markdown",
   "metadata": {},
   "source": [
    "write the Anndata object to use it in other notebooks such as 'merging&clustering_all_weeks', 'cell-cell adjacency' and 'Domain_banksy'."
   ]
  },
  {
   "cell_type": "code",
   "execution_count": null,
   "metadata": {},
   "outputs": [],
   "source": [
    "adata_new.write_h5ad('adata_11w.h5ad')"
   ]
  },
  {
   "cell_type": "markdown",
   "metadata": {},
   "source": [
    "# SOX2 SOX9 comparison"
   ]
  },
  {
   "cell_type": "markdown",
   "metadata": {},
   "source": [
    "first version of the plot"
   ]
  },
  {
   "cell_type": "markdown",
   "metadata": {},
   "source": [
    "these values are coming from the supplementary file 'Cell counts for analysis of proliferation in aiways.pdf'"
   ]
  },
  {
   "cell_type": "code",
   "execution_count": null,
   "metadata": {
    "scrolled": true
   },
   "outputs": [],
   "source": [
    "import pandas as pd\n",
    "import matplotlib.pyplot as plt\n",
    "\n",
    "# Data\n",
    "data = {\n",
    "    'Percentage': [82, 17.9, 97.8, 2.2, 96.2, 3.8],\n",
    "    'Category': ['SOX9+', 'ProSOX9+', 'SOX2+', 'ProSOX2+', 'Large SOX2+', 'Pro Large SOX2+']\n",
    "}\n",
    "\n",
    "# Create a DataFrame\n",
    "df = pd.DataFrame(data)\n",
    "\n",
    "# Define the groups\n",
    "groups = {\n",
    "    'SOX9': ['SOX9+', 'ProSOX9+'],\n",
    "    'SOX2': ['SOX2+', 'ProSOX2+'],\n",
    "    'Large SOX2+': ['Large SOX2+', 'Pro Large SOX2+']\n",
    "}\n",
    "\n",
    "# Create a new column for the group\n",
    "df['Group'] = df['Category'].apply(lambda x: next((group for group, items in groups.items() if x in items), None))\n",
    "\n",
    "# Pivot the data\n",
    "pivot_table = df.pivot(index='Group', columns='Category', values='Percentage')\n",
    "\n",
    "# Plot the stacked bar plot\n",
    "ax = pivot_table.plot(kind='bar', stacked=True, colormap=\"tab20\", figsize=(10, 6))\n",
    "\n",
    "# Set labels and title\n",
    "plt.xlabel('Group')\n",
    "plt.ylabel('Percentage')\n",
    "plt.title('Stacked Bar Plot')\n",
    "\n",
    "# Display the plot\n",
    "plt.legend(title='Category', bbox_to_anchor=(1.05, 1), loc='upper left')\n",
    "plt.tight_layout()\n",
    "plt.savefig('SOX2_SOX9_largeSOX2.pdf')\n",
    "plt.show()\n"
   ]
  },
  {
   "cell_type": "markdown",
   "metadata": {},
   "source": [
    "2nd version of the plot"
   ]
  },
  {
   "cell_type": "code",
   "execution_count": null,
   "metadata": {},
   "outputs": [],
   "source": [
    "these values are coming from the supplementary file 'Cell counts for analysis of proliferation in aiways.pdf'"
   ]
  },
  {
   "cell_type": "code",
   "execution_count": null,
   "metadata": {},
   "outputs": [],
   "source": [
    "import pandas as pd\n",
    "import matplotlib.pyplot as plt\n",
    "\n",
    "# Data\n",
    "data = {\n",
    "    'Percentage': [17.9, 2.2, 3.8],\n",
    "    'Category': ['ProSOX9+', 'ProSOX2+', 'Pro Large SOX2+']\n",
    "}\n",
    "\n",
    "# Create a DataFrame\n",
    "df = pd.DataFrame(data)\n",
    "\n",
    "# Create a bar plot\n",
    "plt.figure(figsize=(8, 6))\n",
    "plt.bar(df['Category'], df['Percentage'], color='skyblue')\n",
    "plt.xlabel('Category')\n",
    "plt.ylabel('Percentage')\n",
    "plt.title('Percentage by Category')\n",
    "plt.xticks(rotation=45)  # Rotate x-axis labels for better readability\n",
    "plt.tight_layout()  # Ensure labels and titles fit within the figure\n",
    "\n",
    "# Show the plot\n",
    "plt.savefig('SOX2_SOX9_largeSOX2_pro.pdf')\n",
    "plt.show()"
   ]
  },
  {
   "cell_type": "markdown",
   "metadata": {},
   "source": [
    "Calculating significance in different groups based on counts which is provided in the supplementary file 'Cell counts for analysis of proliferation in aiways.pdf'"
   ]
  },
  {
   "cell_type": "code",
   "execution_count": null,
   "metadata": {},
   "outputs": [],
   "source": [
    "import pandas as pd\n",
    "from scipy.stats import fisher_exact\n",
    "\n",
    "table = {'SOX2': [1496, 33],\n",
    "        'Large SOX2': [6629, 265],\n",
    "        'SOX9': [2399, 525]}\n",
    "\n",
    "index = ['Non pro', 'pro']\n",
    "\n",
    "df = pd.DataFrame(table, index=index)\n",
    "\n",
    "# Perform Fisher's exact test for each pair of columns\n",
    "results = {}\n",
    "\n",
    "columns = df.columns\n",
    "num_columns = len(columns)\n",
    "\n",
    "for i in range(num_columns):\n",
    "    for j in range(i + 1, num_columns):\n",
    "        col1 = columns[i]\n",
    "        col2 = columns[j]\n",
    "\n",
    "        # Create a 2x2 contingency table\n",
    "        contingency_table = df[[col1, col2]]\n",
    "\n",
    "        # Perform Fisher's exact test\n",
    "        odds_ratio, p_value = fisher_exact(contingency_table)\n",
    "\n",
    "        # Store the results\n",
    "        result_key = f\"{col1} vs {col2}\"\n",
    "        results[result_key] = {\n",
    "            'Odds Ratio': odds_ratio,\n",
    "            'P-Value': p_value\n",
    "        }\n",
    "\n",
    "# Create a DataFrame from the results\n",
    "results_df = pd.DataFrame(results).T\n",
    "print(results_df)\n"
   ]
  }
 ],
 "metadata": {
  "kernelspec": {
   "display_name": "Python (squidpy)",
   "language": "python",
   "name": "squidpy"
  },
  "language_info": {
   "codemirror_mode": {
    "name": "ipython",
    "version": 3
   },
   "file_extension": ".py",
   "mimetype": "text/x-python",
   "name": "python",
   "nbconvert_exporter": "python",
   "pygments_lexer": "ipython3",
   "version": "3.7.11"
  }
 },
 "nbformat": 4,
 "nbformat_minor": 4
}
