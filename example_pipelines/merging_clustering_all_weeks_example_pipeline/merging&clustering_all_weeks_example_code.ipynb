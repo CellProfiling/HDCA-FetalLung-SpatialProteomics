{
 "cells": [
  {
   "cell_type": "code",
   "execution_count": null,
   "metadata": {},
   "outputs": [],
   "source": [
    "from anndata import AnnData\n",
    "import scanpy as sc\n",
    "import squidpy as sq\n",
    "import numba\n",
    "import pandas as pd\n",
    "import seaborn as sns\n",
    "import matplotlib.pyplot as plt\n",
    "import numpy as np\n",
    "from scipy import stats\n",
    "from anndata import read_h5ad"
   ]
  },
  {
   "cell_type": "code",
   "execution_count": null,
   "metadata": {},
   "outputs": [],
   "source": [
    "plt.ion()\n",
    "sc.settings.set_figure_params(dpi=200, fontsize=10)"
   ]
  },
  {
   "cell_type": "markdown",
   "metadata": {},
   "source": [
    "if you have ready .h5ad files from individual weeks you can concatenate them. We first performed individual clustering and remove the artefacts. Then merged them in this notebook."
   ]
  },
  {
   "cell_type": "code",
   "execution_count": null,
   "metadata": {},
   "outputs": [],
   "source": [
    "week6 = read_h5ad('6week_adata.h5ad')\n",
    "week8_5 = read_h5ad('8.5week_adata.h5ad')\n",
    "week11 = read_h5ad('11week_adata.h5ad')\n",
    "week12 = read_h5ad('12week_adata.h5ad')\n",
    "week13 = read_h5ad('13week_adata.h5ad')"
   ]
  },
  {
   "cell_type": "code",
   "execution_count": null,
   "metadata": {},
   "outputs": [],
   "source": [
    "adata = week6.concatenate(week8_5,week11,week12,week13)"
   ]
  },
  {
   "cell_type": "markdown",
   "metadata": {},
   "source": [
    "# Clustering"
   ]
  },
  {
   "cell_type": "markdown",
   "metadata": {},
   "source": [
    "batch correction with Combat"
   ]
  },
  {
   "cell_type": "code",
   "execution_count": null,
   "metadata": {},
   "outputs": [],
   "source": [
    "sc.pp.combat(adata, key='age')"
   ]
  },
  {
   "cell_type": "code",
   "execution_count": null,
   "metadata": {
    "scrolled": true
   },
   "outputs": [],
   "source": [
    "sc.tl.pca(adata)"
   ]
  },
  {
   "cell_type": "code",
   "execution_count": null,
   "metadata": {},
   "outputs": [],
   "source": [
    "sc.pp.neighbors(adata,n_neighbors= 10)"
   ]
  },
  {
   "cell_type": "code",
   "execution_count": null,
   "metadata": {},
   "outputs": [],
   "source": [
    "sc.tl.umap(adata,min_dist= 0.1, spread= 0.3, negative_sample_rate= 4)"
   ]
  },
  {
   "cell_type": "code",
   "execution_count": null,
   "metadata": {},
   "outputs": [],
   "source": [
    "sc.tl.leiden(adata,resolution=1)"
   ]
  },
  {
   "cell_type": "code",
   "execution_count": null,
   "metadata": {
    "scrolled": false
   },
   "outputs": [],
   "source": [
    "sc.pl.umap(adata, color='leiden')\n"
   ]
  },
  {
   "cell_type": "code",
   "execution_count": null,
   "metadata": {},
   "outputs": [],
   "source": [
    "sc.pl.umap(adata, color='age')\n"
   ]
  },
  {
   "cell_type": "code",
   "execution_count": null,
   "metadata": {},
   "outputs": [],
   "source": [
    "adata.uns['annotation_colors'] = ['#e6194b', '#4363d8', '#f58231', '#911eb4', '#46f0f0', '#f032e6', '#e6beff', '#bcf60c', '#fabebe', '#008080','#a9a9a9']"
   ]
  },
  {
   "cell_type": "code",
   "execution_count": null,
   "metadata": {},
   "outputs": [],
   "source": [
    "sc.pl.umap(adata, color='annotation')"
   ]
  },
  {
   "cell_type": "code",
   "execution_count": null,
   "metadata": {},
   "outputs": [],
   "source": [
    "t=adata.X\n",
    "pd.DataFrame(data=t, index=adata.obs_names, columns=adata.var_names).to_csv('batchcorrected_combat.csv')"
   ]
  },
  {
   "cell_type": "markdown",
   "metadata": {},
   "source": [
    "Plotting marker expressions in each cluster with a dot plot"
   ]
  },
  {
   "cell_type": "code",
   "execution_count": null,
   "metadata": {},
   "outputs": [],
   "source": [
    "sc.tl.dendrogram(adata,groupby='leiden')\n",
    "adata.obs.leiden= adata.obs.leiden.astype(str)\n",
    "markers = adata.var.index\n",
    "sc.pl.dotplot(adata, markers,groupby= 'leiden', dendrogram=True, size_title=None, save='batch_dot_plot_unannotated.pdf')"
   ]
  },
  {
   "cell_type": "code",
   "execution_count": null,
   "metadata": {},
   "outputs": [],
   "source": [
    "#resolution=1 annotations\n",
    "old_to_new = {\n",
    "    '0':'Endothelial',\n",
    "    '1':'Endothelial',\n",
    "    '2':'Endothelial',\n",
    "    '3':'Mesenchymal',\n",
    "    '4':'SOX9 high epit.',\n",
    "    '5':'SOX2 high epit.',\n",
    "    '6':'ASM',\n",
    "    '7':'Immune',\n",
    "    '8':'Mesenchymal',\n",
    "    '9':'Mesenchymal',\n",
    "    '10':'Endothelial',\n",
    "    '11':'SOX2 high epit.',\n",
    "    '12':'Mesenchymal',\n",
    "    '13':'Mesenchymal',\n",
    "    '14':'SOX2 high epit.',\n",
    "    '15':'Ki67+ mes.',\n",
    "    '16':'ASM',\n",
    "    '17':'Mesenchymal',\n",
    "    '18':'SOX9 high epit.',\n",
    "    '19':'Lymp.endo.',\n",
    "    '20':'Mesenchymal',\n",
    "    '21':'Mesenchymal',\n",
    "    '22':'Endothelial',\n",
    "    '23':'SOX9 high epit.',\n",
    "    '24':'Neuronal',\n",
    "    '25':'Mesenchymal',\n",
    "    '26':'Mesenchymal',\n",
    "    '27':'ASM',\n",
    "    '28':'Chondroblast',\n",
    "    '29':'VSM',\n",
    "    '30':'SOX2 high epit.',\n",
    "    '31':'VSM',\n",
    "    '32':'Immune',\n",
    "    '33':'Mesenchymal',\n",
    "    '34':'SOX9 high epit.',\n",
    "    '35':'Mesenchymal',\n",
    "    '36':'SOX9 high epit.',\n",
    "    '37':'Mesenchymal'\n",
    "\n",
    "}\n",
    "adata.obs['annotation'] = adata.obs['leiden'].map(old_to_new)"
   ]
  },
  {
   "cell_type": "code",
   "execution_count": null,
   "metadata": {},
   "outputs": [],
   "source": [
    "sc.pl.umap(adata, color='annotation', save='batchcorrected.pdf')"
   ]
  },
  {
   "cell_type": "markdown",
   "metadata": {},
   "source": [
    "percentages for the cell types"
   ]
  },
  {
   "cell_type": "code",
   "execution_count": null,
   "metadata": {},
   "outputs": [],
   "source": [
    "data = {\n",
    "    'Cell Type': ['Mesenchymal', 'Endothelial', 'SOX2 high epit.', 'SOX9 high epit.', \n",
    "                  'ASM', 'Immune', 'Ki67+ mes.', 'Lymp.endo.', 'Neuronal', 'VSM', 'Chondroblast'],\n",
    "    'Count': [281153, 226747, 120243, 89328, 84389, 44208, 32013, 19781, 10482, 6967, 6260]\n",
    "}\n",
    "\n",
    "# Convert to DataFrame\n",
    "df = pd.DataFrame(data)\n",
    "\n",
    "# Calculate the total count\n",
    "total_count = df['Count'].sum()\n",
    "\n",
    "# Calculate percentages\n",
    "df['Percentage'] = (df['Count'] / total_count) * 100\n",
    "\n",
    "# Assuming color hex codes are provided, here's an example of how they might look\n",
    "colors = ['#e6beff','#f58231','#fabebe','#008080','#e6194b','#911eb4','#46f0f0','#f032e6','#bcf60c','#a9a9a9','#4363d8']\n",
    "\n",
    "# Creating a bar plot with specific colors\n",
    "plt.figure(figsize=(12, 8))\n",
    "bars = plt.bar(df['Cell Type'], df['Percentage'], color=colors)\n",
    "plt.grid(False)\n",
    "# Adding labels and title\n",
    "plt.xlabel('Cell Type')\n",
    "plt.ylabel('Percentage')\n",
    "plt.title('Percentage of Each Cell Type')\n",
    "plt.xticks(rotation=45)  # Rotate labels to fit them better\n",
    "\n",
    "# Show the plot\n",
    "plt.savefig('percentages of the cell types.pdf')\n",
    "plt.show()"
   ]
  },
  {
   "cell_type": "code",
   "execution_count": null,
   "metadata": {},
   "outputs": [],
   "source": [
    "adata.obs.leiden= adata.obs.leiden.astype(str)\n",
    "markers = adata.var.index\n",
    "sc.pl.dotplot(adata, markers,groupby= 'annotation', dendrogram=True, size_title=None,save='batch_dotplot.pdf')"
   ]
  },
  {
   "cell_type": "code",
   "execution_count": null,
   "metadata": {},
   "outputs": [],
   "source": [
    "sc.pl.embedding_density(adata, groupby='age',save='batch_age_density.pdf')"
   ]
  },
  {
   "cell_type": "code",
   "execution_count": null,
   "metadata": {},
   "outputs": [],
   "source": [
    "adata.write_h5ad('090524_batchcorr.h5ad')"
   ]
  }
 ],
 "metadata": {
  "kernelspec": {
   "display_name": "Python (squidpy)",
   "language": "python",
   "name": "squidpy"
  },
  "language_info": {
   "codemirror_mode": {
    "name": "ipython",
    "version": 3
   },
   "file_extension": ".py",
   "mimetype": "text/x-python",
   "name": "python",
   "nbconvert_exporter": "python",
   "pygments_lexer": "ipython3",
   "version": "3.7.11"
  }
 },
 "nbformat": 4,
 "nbformat_minor": 4
}
