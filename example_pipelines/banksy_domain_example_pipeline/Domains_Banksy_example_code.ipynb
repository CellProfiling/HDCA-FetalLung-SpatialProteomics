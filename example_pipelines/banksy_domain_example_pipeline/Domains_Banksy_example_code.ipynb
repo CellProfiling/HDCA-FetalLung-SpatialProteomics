{
 "cells": [
  {
   "cell_type": "code",
   "execution_count": null,
   "metadata": {},
   "outputs": [],
   "source": [
    "from scipy.io import mmread\n",
    "import xb.formatting as xf\n",
    "import numpy as np\n",
    "import pandas as pd\n",
    "import scanpy as sc\n",
    "import seaborn as sns\n",
    "import matplotlib.pyplot as plt\n",
    "import os\n",
    "from xb.formatting import keep_nuclei_and_quality\n",
    "import xb.plotting as xp\n",
    "from xb.plotting import map_of_clusters\n",
    "import scipy as sp\n",
    "from xb.calculating import domainassign\n",
    "import seaborn as sns\n",
    "import gzip\n",
    "import shutil\n",
    "import json\n",
    "import matplotlib"
   ]
  },
  {
   "cell_type": "markdown",
   "metadata": {},
   "source": [
    "You can export the Anndata object from the '11pcw_example_code' notebook once the cell type annotations are done. Those Anndata objects will be used for domain calculations."
   ]
  },
  {
   "cell_type": "markdown",
   "metadata": {},
   "source": [
    "## functions for banksy "
   ]
  },
  {
   "cell_type": "code",
   "execution_count": null,
   "metadata": {},
   "outputs": [],
   "source": [
    "## modify the X coords of each sample so that they are processed independently\n",
    "def adapt_banksy_for_multisample(adata):\n",
    "    adata.obs['Xres']=adata.obs['x_centroid']\n",
    "    adata.obs['Yres']=adata.obs['y_centroid']\n",
    "    gap=adata.obs['x_centroid'].max()+int(adata.obs['x_centroid'].max()/10)\n",
    "    samplekey='sample'\n",
    "    counter=0\n",
    "    sampsel=[]\n",
    "    for s in adata.obs[samplekey].unique():\n",
    "        sampsel.append(s)\n",
    "        adata.obs.loc[~adata.obs[samplekey].isin(sampsel),'Xres']=adata.obs.loc[~adata.obs[samplekey].isin(sampsel),'Xres']+gap\n",
    "        counter=counter+1\n",
    "    adata.obs['Yres']=adata.obs['Yres']+1\n",
    "    adata.obsm['spatial_sample_specific']=adata.obsm['spatial']\n",
    "    adata.obsm['spatial']=np.array(adata.obs.loc[:,['Xres','Yres']])\n",
    "    return adata\n",
    "def define_palette(n_colors=50):\n",
    "    from random import randint\n",
    "    colorlist = []\n",
    "    n = n_colors\n",
    "    for i in range(n):\n",
    "        colorlist.append('#%06X' % randint(0, 0xFFFFFF))\n",
    "    return colorlist\n",
    "\n",
    "def domains_by_banksy(adata,plot_path:str,banksy_params:dict):\n",
    "    adata=adapt_banksy_for_multisample(adata)\n",
    "    coord_keys = ('Xres', 'Yres','spatial')\n",
    "    prev_clusters=[e for e in adata.obs.columns if clustering_params['clustering_alg'] in e]\n",
    "    if len(prev_clusters)>0:\n",
    "        annotation_key=prev_clusters[0]\n",
    "    else:\n",
    "        adata.obs['default_clustering']='0'\n",
    "        adata.obs['default_clustering']=adata.obs['default_clustering'].astype('category')\n",
    "        annotation_key='default_clustering'\n",
    "        \n",
    "\n",
    "    banksy_dict = initialize_banksy(\n",
    "        adata,\n",
    "        coord_keys,\n",
    "        banksy_params['k_geom'],\n",
    "        nbr_weight_decay=banksy_params['nbr_weight_decay'],\n",
    "        max_m=banksy_params['max_m'],\n",
    "        plt_edge_hist=True,\n",
    "        plt_nbr_weights=True,\n",
    "        plt_agf_angles=False,\n",
    "        plt_theta=False)\n",
    "    results_df = run_banksy_multiparam(\n",
    "        adata,\n",
    "        banksy_dict,\n",
    "        banksy_params['lambda_list'], banksy_params['resolutions'],\n",
    "        color_list = define_palette(n_colors=100), max_m = banksy_params['max_m'], filepath = plot_path,\n",
    "        key = coord_keys, pca_dims = banksy_params['pca_dims'],\n",
    "        annotation_key = annotation_key, max_labels = None,\n",
    "        cluster_algorithm = banksy_params['cluster_algorithm'], match_labels = False, savefig = save, add_nonspatial = False,\n",
    "        variance_balance = False,\n",
    "    )\n",
    "    adata_res=results_df.loc[results_df.index[0],'adata']\n",
    "    res=adata_res.obs.loc[:,['unique_cell_id',results_df.index[0]]]\n",
    "    res.columns=['unique_cell_id','spatial_domain']\n",
    "    adata_res=results_df.loc[results_df.index[0],'adata']\n",
    "    res=adata_res.obs.loc[:,['unique_cell_id',results_df.index[0]]]\n",
    "    res.columns=['unique_cell_id','spatial_domain']\n",
    "    id2domain=dict(zip(res['unique_cell_id'],res['spatial_domain']))\n",
    "    adata.obs['banksy_domain']=adata.obs['unique_cell_id'].map(id2domain).astype(str)\n",
    "    adata.obsm['spatial']=adata.obsm['spatial_sample_specific']\n",
    "    return adata,adata_res\n",
    "\n",
    "clustering_params={'normalization_target_sum':100,\n",
    "'min_counts_x_cell':40,\n",
    "'min_genes_x_cell':15,\n",
    "'scale':False,\n",
    "'clustering_alg':'louvain',\n",
    "'resolutions':[0.2,0.5,1.1],\n",
    "'n_neighbors':15,'umap_min_dist':0.1,\n",
    "'n_pcs':0}\n",
    "save=True"
   ]
  },
  {
   "cell_type": "code",
   "execution_count": null,
   "metadata": {},
   "outputs": [],
   "source": [
    "import warnings\n",
    "warnings.filterwarnings(\"ignore\") \n",
    "import random\n",
    "import scipy.sparse as sparse\n",
    "from scipy.sparse import csr_matrix, issparse\n",
    "current_directory=os.getcwd()\n",
    "os.chdir('/home/sergio/Banksy_py')\n",
    "from banksy.initialize_banksy import initialize_banksy\n",
    "from banksy.run_banksy import run_banksy_multiparam\n",
    "random_seed = 1234\n",
    "np.random.seed(random_seed)\n",
    "os.chdir(current_directory)"
   ]
  },
  {
   "cell_type": "markdown",
   "metadata": {},
   "source": [
    "here you can choose the folder you have all 5 Anndata objects for all the weeks."
   ]
  },
  {
   "cell_type": "code",
   "execution_count": null,
   "metadata": {},
   "outputs": [],
   "source": [
    "folderpath='/home/sergio/Jnotebooks/HDLCA_codex/whole_datasets-20240510T124054Z-001/whole_datasets/'"
   ]
  },
  {
   "cell_type": "code",
   "execution_count": null,
   "metadata": {
    "scrolled": true
   },
   "outputs": [],
   "source": [
    "files=os.listdir(folderpath)\n",
    "files=[f for f in files if '.h5ad' in f]\n",
    "files=[f for f in files if not 'domains' in f]\n",
    "for f in files:\n",
    "    adata=sc.read(folderpath+f)\n",
    "    adata.obs['x_centroid']=adata.obs['x']\n",
    "    adata.obs['y_centroid']=adata.obs['y']\n",
    "    adata.obs['sample']=f\n",
    "    adata.obs['unique_cell_id']=adata.obs['cell_id']\n",
    "    tac=f.split('.')[0]\n",
    "    outipath=folderpath+tac\n",
    "    if not os.path.exists(outipath):\n",
    "        os.mkdir(outipath)\n",
    "    '''Input File'''\n",
    "    banksy_params={'resolutions':[.25], # clustering resolution for Leiden clustering\n",
    "    'pca_dims':[20], # number of dimensions to keep after PCA\n",
    "    'lambda_list':[.8],# lambda\n",
    "    'k_geom':10, # 15 spatial neighbours\n",
    "    'max_m':1, # use AGF\n",
    "    'nbr_weight_decay':\"scaled_gaussian\", # can also be \"reciprocal\", \"uniform\" or \"ranked\"\n",
    "    'cluster_algorithm':'leiden'}\n",
    "    ###########\n",
    "    plot_path='/home/sergio/Jnotebooks/HDLCA_codex/fetal_lung_neighborhood_analysis/'+outipath\n",
    "    adata,adata_banksy=domains_by_banksy(adata,plot_path=plot_path,banksy_params=banksy_params)\n",
    "    domains_counts=pd.DataFrame(adata.obs.groupby('banksy_domain').count()['cell_id'])\n",
    "    domains_counts.columns=['total_counts']\n",
    "    plt.bar(domains_counts.index,domains_counts['total_counts'])\n",
    "    plt.xlabel('Domains')\n",
    "    plt.ylabel('Total cells')\n",
    "    ###########\n",
    "    domains_counts.transpose().plot(kind='bar',stacked=True,width=0.9)\n",
    "    plt.savefig(folderpath+'barplot_domains.png')\n",
    "    ###########\n",
    "    sc.tl.rank_genes_groups(adata, groupby='banksy_domain', method='wilcoxon')\n",
    "    sc.pl.rank_genes_groups_dotplot(adata, n_genes=3, swap_axes=True)#,save='deg.pdf')\n",
    "    ###########\n",
    "    domains=pd.crosstab(adata.obs['annotation'],adata.obs['banksy_domain'])\n",
    "    domains=domains.div(domains.sum(axis=0),axis=1)\n",
    "    sns.clustermap(domains,cmap='Blues')\n",
    "    plt.savefig(folderpath+'heatmap_domain_by_celltype.png')\n",
    "    ###########\n",
    "    sc.set_figure_params(facecolor=\"white\", figsize=(8, 8))\n",
    "    for s in adata.obs['sample'].unique():\n",
    "            adatasub=adata[adata.obs['sample']==s]\n",
    "            sc.pl.spatial(adatasub,color='banksy_domain',spot_size=30,show=False)\n",
    "            plt.savefig(folderpath+'spatial_domains.png')\n",
    "    adata.write(folderpath+f.split('.')[0]+'_domains.h5ad')"
   ]
  },
  {
   "cell_type": "code",
   "execution_count": null,
   "metadata": {
    "scrolled": false
   },
   "outputs": [],
   "source": [
    "sc.set_figure_params(dpi=200,figsize=None)\n",
    "files=os.listdir(folderpath)\n",
    "files=[f for f in files if '.h5ad' in f]\n",
    "files=[f for f in files if  'domains' in f]\n",
    "files=[f for f in files if not  '8_domains' in f]\n",
    "allexp=[]\n",
    "alladatas=[]\n",
    "for f in files:\n",
    "    adata=sc.read(folderpath+f)\n",
    "    meanexp=pd.crosstab(adata.obs['annotation'],adata.obs['banksy_domain']).transpose()\n",
    "    sc.pl.spatial(adata,spot_size=50,color='banksy_domain')\n",
    "    meanexp.index=f[13:17]+'_'+meanexp.index.astype(str)\n",
    "    adata.obs['pcw']=f[13:17]\n",
    "    adata.obs['region']=f.split('.')[0][5:11]\n",
    "    allexp.append(meanexp)\n",
    "    alladatas.append(adata)"
   ]
  },
  {
   "cell_type": "code",
   "execution_count": null,
   "metadata": {},
   "outputs": [],
   "source": [
    "common_adata=sc.concat(alladatas)\n",
    "signature_exp=pd.concat(allexp).fillna(0)\n",
    "signature_exp=signature_exp.div(signature_exp.sum(axis=1),axis=0)\n",
    "sns.clustermap(signature_exp,figsize=(20,20))\n",
    "plt.savefig(folderpath+'heatmap_domain_by_celltype_alltypes.png')"
   ]
  },
  {
   "cell_type": "code",
   "execution_count": null,
   "metadata": {},
   "outputs": [],
   "source": [
    "corr_exp=pd.DataFrame(np.corrcoef(signature_exp),index=signature_exp.index,columns=signature_exp.index)\n",
    "sns.clustermap(corr_exp,figsize=(30,35),vmin=0.4)\n",
    "plt.savefig(folderpath+'correlation_between_domains.png')"
   ]
  },
  {
   "cell_type": "code",
   "execution_count": null,
   "metadata": {},
   "outputs": [],
   "source": []
  }
 ],
 "metadata": {
  "kernelspec": {
   "display_name": "Python (squidpy)",
   "language": "python",
   "name": "squidpy"
  },
  "language_info": {
   "codemirror_mode": {
    "name": "ipython",
    "version": 3
   },
   "file_extension": ".py",
   "mimetype": "text/x-python",
   "name": "python",
   "nbconvert_exporter": "python",
   "pygments_lexer": "ipython3",
   "version": "3.7.11"
  }
 },
 "nbformat": 4,
 "nbformat_minor": 5
}
