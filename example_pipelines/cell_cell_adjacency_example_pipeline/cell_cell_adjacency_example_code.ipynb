{
 "cells": [
  {
   "cell_type": "code",
   "execution_count": null,
   "metadata": {},
   "outputs": [],
   "source": [
    "from anndata import AnnData\n",
    "import scanpy as sc\n",
    "import squidpy as sq\n",
    "import numba\n",
    "import pandas as pd\n",
    "import seaborn as sns\n",
    "import matplotlib.pyplot as plt\n",
    "import numpy as np\n",
    "from scipy import stats\n",
    "import pytometry as pm\n",
    "from anndata import read_h5ad"
   ]
  },
  {
   "cell_type": "markdown",
   "metadata": {},
   "source": [
    "# Comparing cell-cell interactions btw weeks"
   ]
  },
  {
   "cell_type": "markdown",
   "metadata": {},
   "source": [
    "read the Anndata objects which you created in 11 pcw example code. And concatenate all."
   ]
  },
  {
   "cell_type": "markdown",
   "metadata": {},
   "source": [
    "updating the annotation names so that they overlap between weeks"
   ]
  },
  {
   "cell_type": "code",
   "execution_count": null,
   "metadata": {},
   "outputs": [],
   "source": [
    "adata6 = read_h5ad('6week_adata.h5ad')\n",
    "adata8 = read_h5ad('8_5week.h5ad')\n",
    "adata8.obs['annotation'].replace({\"Vim+ mesenchymal\": \"Vim+ mes.\"}, inplace=True)\n",
    "adata8.obs['annotation'].replace({\"Chondroblasts\": \"Chondroblast\"}, inplace=True)\n",
    "adata11 = read_h5ad('11adata.h5ad')\n",
    "adata11.obs[\"ROI\"] = \"11week\"\n",
    "adata12 = read_h5ad('12adata.h5ad')\n",
    "adata12.obs[\"ROI\"] = \"12week\"\n",
    "adata13 = read_h5ad('13adata.h5ad')\n",
    "adata13.obs[\"ROI\"] = \"13week\"\n",
    "adata13.obs['annotation'].replace({\"Vim+ mesenchymal\": \"Vim+ mes.\"}, inplace=True)"
   ]
  },
  {
   "cell_type": "code",
   "execution_count": null,
   "metadata": {},
   "outputs": [],
   "source": [
    "adata_all = adata6.concatenate(adata8,adata11,adata12,adata13)"
   ]
  },
  {
   "cell_type": "markdown",
   "metadata": {},
   "source": [
    "plotting all the cell-cell adjacency heatmaps all together"
   ]
  },
  {
   "cell_type": "code",
   "execution_count": null,
   "metadata": {
    "scrolled": true
   },
   "outputs": [],
   "source": [
    "level='annotation'\n",
    "nu=0\n",
    "celltype2id=dict(zip(np.unique(adata_all.obs[level]),range(0,len(np.unique(adata_all.obs[level])))))\n",
    "allmat=np.zeros([len(np.unique(adata_all.obs[level])),len(np.unique(adata_all.obs[level])),len(adata_all.obs['ROI'].unique())])\n",
    "for samp in adata_all.obs['ROI'].unique():\n",
    "    adsu=adata_all[adata_all.obs['ROI']==samp]\n",
    "    adsu.obs['annotation'] = pd.Categorical(adsu.obs['annotation'])\n",
    "    sq.gr.spatial_neighbors(adsu, radius=50, coord_type=\"generic\")\n",
    "    nenrichsub=sq.gr.nhood_enrichment(adsu, cluster_key=level,copy = True)\n",
    "    sq.gr.nhood_enrichment(adsu, cluster_key=level)\n",
    "    #matrix=adsu.uns['annotation_nhood_enrichment']['zscore']=np.matrix(pd.DataFrame(adsu.uns['annotation_nhood_enrichment']['zscore']).fillna(0))\n",
    "    nhood_sample=pd.DataFrame(nenrichsub[0],index=np.unique(adsu.obs[level]),columns=np.unique(adsu.obs[level]))\n",
    "    for ct in nhood_sample.columns:\n",
    "        for ct2 in nhood_sample.index:\n",
    "            allmat[celltype2id[ct],celltype2id[ct2],nu]=nhood_sample.loc[ct,ct2]\n",
    "\n",
    "    sq.pl.nhood_enrichment(adsu, cluster_key=level, method=\"ward\",mode='zscore',vmax=100,vmin=-100,cmap='coolwarm',show=False)\n",
    "    #plt.title(samp)\n",
    "    #plt.savefig(general_path+'/ISS_global_analysis/'+samp+'_nhood_enrichment_'+level+'.pdf')\n",
    "    nu=nu+1"
   ]
  },
  {
   "cell_type": "markdown",
   "metadata": {},
   "source": [
    "fetching the dataframe from specific layers corresponding to different weeks. These datasets will be used for scaling in R (scale() function). For the simplicity we already provided the scaled datasets for the common cell types for all weeks in the data repository."
   ]
  },
  {
   "cell_type": "code",
   "execution_count": null,
   "metadata": {},
   "outputs": [],
   "source": [
    "layer_index = 4  # Change this to the desired layer index\n",
    "\n",
    "# Create an empty DataFrame with appropriate row and column indices\n",
    "num_rows, num_cols = allmat.shape[0], allmat.shape[1]\n",
    "grouped_cells =pd.DataFrame(index=np.unique(adata_all.obs[level]),columns=np.unique(adata_all.obs[level]))\n",
    "\n",
    "# Populate the DataFrame using the selected layer\n",
    "for row_idx in range(num_rows):\n",
    "    for col_idx in range(num_cols):\n",
    "        grouped_cells.iloc[row_idx, col_idx] = allmat[row_idx, col_idx, layer_index]\n",
    "\n",
    "# Print the DataFrame\n",
    "print(grouped_cells)\n"
   ]
  },
  {
   "cell_type": "code",
   "execution_count": null,
   "metadata": {},
   "outputs": [],
   "source": [
    "grouped_cells.to_csv('13w_interaction_enrichmentscores.csv', index=True)"
   ]
  },
  {
   "cell_type": "markdown",
   "metadata": {},
   "source": [
    "changes in cell type adjacency patterns over time"
   ]
  },
  {
   "cell_type": "markdown",
   "metadata": {},
   "source": [
    "creating a 3d matrix with the scaled enrichment scores (scaling done in R using scale() function)-Scaling is performed using interaction_enrichmentscores csv files created in the previous step (provided in the data repository)"
   ]
  },
  {
   "cell_type": "code",
   "execution_count": null,
   "metadata": {},
   "outputs": [],
   "source": [
    "scaled_week6=pd.read_table('/Users/sanem.sanyar/Python_squidpy_analysis/fetallung_analysis_python/6w/scaled_week6.csv',sep=',')\n",
    "scaled_week8_5=pd.read_table('/Users/sanem.sanyar/Python_squidpy_analysis/fetallung_analysis_python/6w/scaled_week8.5.csv',sep=',')\n",
    "scaled_week11=pd.read_table('/Users/sanem.sanyar/Python_squidpy_analysis/fetallung_analysis_python/6w/scaled_week11.csv',sep=',')\n",
    "scaled_week12=pd.read_table('/Users/sanem.sanyar/Python_squidpy_analysis/fetallung_analysis_python/6w/scaled_week12.csv',sep=',')\n",
    "scaled_week13=pd.read_table('/Users/sanem.sanyar/Python_squidpy_analysis/fetallung_analysis_python/6w/scaled_week13.csv',sep=',')"
   ]
  },
  {
   "cell_type": "code",
   "execution_count": null,
   "metadata": {},
   "outputs": [],
   "source": [
    "scaled_week6 = scaled_week6.set_index('Unnamed: 0')\n",
    "scaled_week8_5 = scaled_week8_5.set_index('Unnamed: 0')\n",
    "scaled_week11 = scaled_week11.set_index('Unnamed: 0')\n",
    "scaled_week12 = scaled_week12.set_index('Unnamed: 0')\n",
    "scaled_week13 = scaled_week13.set_index('Unnamed: 0')"
   ]
  },
  {
   "cell_type": "code",
   "execution_count": null,
   "metadata": {},
   "outputs": [],
   "source": [
    "# Assuming the dataframes are named as follows:\n",
    "# scaled_week6, scaled_week8_5, scaled_week11, scaled_week12, scaled_week13\n",
    "\n",
    "data_matrices = [df.to_numpy() for df in [scaled_week6, scaled_week8_5, scaled_week11, scaled_week12, scaled_week13]]"
   ]
  },
  {
   "cell_type": "code",
   "execution_count": null,
   "metadata": {},
   "outputs": [],
   "source": [
    "overlay = np.stack(data_matrices, axis=-1)"
   ]
  },
  {
   "cell_type": "code",
   "execution_count": null,
   "metadata": {},
   "outputs": [],
   "source": [
    "import matplotlib.pyplot as plt\n",
    "\n",
    "weeks = ['week6', 'week8.5', 'week11', 'week12', 'week13']\n",
    "column_names = scaled_week6.columns  # Assuming column names are the same across all dataframes\n",
    "index_names = scaled_week6.index  # Assuming row indexing is the same\n",
    "\n",
    "# Create plots: one plot for each column\n",
    "for col_idx, col_name in enumerate(column_names):\n",
    "    plt.figure(figsize=(10, 6))\n",
    "    for row_idx, row_name in enumerate(index_names):\n",
    "        # Extract the data for this row and column across all weeks\n",
    "        data_to_plot = overlay[row_idx, col_idx, :]\n",
    "        plt.plot(weeks, data_to_plot, marker='o', label=f\"{row_name}\")\n",
    "\n",
    "    plt.title(f\"Time Series for {col_name}\")\n",
    "    plt.xlabel('Weeks')\n",
    "    plt.ylabel('Value')\n",
    "    plt.legend(title=\"Row\", bbox_to_anchor=(1.05, 1), loc='upper left')\n",
    "    plt.grid(True)\n",
    "    plt.tight_layout()\n",
    "    plt.show()\n",
    "    \n",
    "# Create plots: one plot for each column\n",
    "for col_idx, col_name in enumerate(column_names):\n",
    "    plt.figure(figsize=(10, 6))\n",
    "    for row_idx, row_name in enumerate(index_names):\n",
    "        # Extract the data for this row and column across all weeks\n",
    "        data_to_plot = overlay[row_idx, col_idx, :]\n",
    "        plt.plot(weeks, data_to_plot, marker='o', label=f\"{row_name}\")\n",
    "\n",
    "    plt.title(f\"Time Series for {col_name}\")\n",
    "    plt.xlabel('Weeks')\n",
    "    plt.ylabel('Value')\n",
    "    plt.legend(title=\"Row\", bbox_to_anchor=(1.05, 1), loc='upper left')\n",
    "    plt.grid(True)\n",
    "    plt.tight_layout()\n",
    "    \n",
    "    # Save the figure as a PDF\n",
    "    plt.savefig(f\"{col_name}_plot.pdf\")\n",
    "    \n",
    "    # Show the plot\n",
    "    plt.show()\n"
   ]
  },
  {
   "cell_type": "code",
   "execution_count": null,
   "metadata": {},
   "outputs": [],
   "source": [
    "# Assuming scaled_week6 is representative of all for column and index names\n",
    "column_names = scaled_week6.columns.tolist()\n",
    "index_names = scaled_week6.index.tolist()"
   ]
  },
  {
   "cell_type": "markdown",
   "metadata": {},
   "source": [
    "# Comparing cell-cell adjacency of the proliferating cells across weeks"
   ]
  },
  {
   "cell_type": "code",
   "execution_count": null,
   "metadata": {},
   "outputs": [],
   "source": [
    "level = 'proliferation'\n",
    "nu = 0\n",
    "celltype2id = dict(zip(np.unique(adata_all.obs[level]), range(len(np.unique(adata_all.obs[level])))))\n",
    "allmat = np.zeros([len(np.unique(adata_all.obs[level])), len(np.unique(adata_all.obs[level])), len(adata_all.obs['ROI'].unique())])\n",
    "\n",
    "for samp in adata_all.obs['ROI'].unique():\n",
    "    adsu = adata_all[adata_all.obs['ROI'] == samp]\n",
    "    adsu.obs['proliferation'] = pd.Categorical(adsu.obs['proliferation'])\n",
    "    sq.gr.spatial_neighbors(adsu, radius=50, coord_type=\"generic\")\n",
    "    nenrichsub = sq.gr.nhood_enrichment(adsu, cluster_key=level, copy=True)\n",
    "    nhood_sample = pd.DataFrame(nenrichsub[0], index=np.unique(adsu.obs[level]), columns=np.unique(adsu.obs[level]))\n",
    "\n",
    "    for ct in nhood_sample.columns:\n",
    "        for ct2 in nhood_sample.index:\n",
    "            allmat[celltype2id[ct], celltype2id[ct2], nu] = nhood_sample.loc[ct, ct2]\n",
    "\n",
    "    # Generate the plot\n",
    "    ax = sq.pl.nhood_enrichment(adsu, cluster_key=level, method=\"ward\", mode='zscore', vmax=100, vmin=-100, cmap='coolwarm', show=False)\n",
    "\n",
    "    # Save the plot to a PDF file\n",
    "    plt.title(f\"{samp} nhood enrichment {level}\")\n",
    "    plt.savefig(f\"{samp}_nhood_enrichment_{level}.pdf\")\n",
    "    plt.close()  # Close the figure to free up memory\n",
    "\n",
    "    nu += 1"
   ]
  },
  {
   "cell_type": "markdown",
   "metadata": {},
   "source": [
    "fetching the dataframe from specific layers corresponding to different weeks. These datasets will be used for scaling in R (scale() function). For the simplicity we already provided the scaled datasets for the common cell types for all weeks in the data repository."
   ]
  },
  {
   "cell_type": "code",
   "execution_count": null,
   "metadata": {},
   "outputs": [],
   "source": [
    "layer_index = 4  # Change this to the desired layer index\n",
    "\n",
    "# Create an empty DataFrame with appropriate row and column indices\n",
    "num_rows, num_cols = allmat.shape[0], allmat.shape[1]\n",
    "grouped_cells =pd.DataFrame(index=np.unique(adata_all.obs[level]),columns=np.unique(adata_all.obs[level]))\n",
    "\n",
    "# Populate the DataFrame using the selected layer\n",
    "for row_idx in range(num_rows):\n",
    "    for col_idx in range(num_cols):\n",
    "        grouped_cells.iloc[row_idx, col_idx] = allmat[row_idx, col_idx, layer_index]\n",
    "\n",
    "# Print the DataFrame\n",
    "print(grouped_cells)\n"
   ]
  },
  {
   "cell_type": "code",
   "execution_count": null,
   "metadata": {},
   "outputs": [],
   "source": [
    "grouped_cells.to_csv('13w_pro_interaction_enrichment.csv', index=True)"
   ]
  },
  {
   "cell_type": "code",
   "execution_count": null,
   "metadata": {},
   "outputs": [],
   "source": [
    "#creating a 3d matrix with the scaled enrichment scores (scaling done in R using scale() function)-Scaling is performed using interaction_enrichmentscores csv files created in the previous step."
   ]
  },
  {
   "cell_type": "code",
   "execution_count": null,
   "metadata": {},
   "outputs": [],
   "source": [
    "#loading scaled dataframes"
   ]
  },
  {
   "cell_type": "code",
   "execution_count": null,
   "metadata": {},
   "outputs": [],
   "source": [
    "pro_scaled_week6=pd.read_table('/Users/sanem.sanyar/Python_squidpy_analysis/fetallung_analysis_python/6w/pro_scaled_week6.csv',sep=',')\n",
    "pro_scaled_week8_5=pd.read_table('/Users/sanem.sanyar/Python_squidpy_analysis/fetallung_analysis_python/6w/pro_scaled_week8.5.csv',sep=',')\n",
    "pro_scaled_week11=pd.read_table('/Users/sanem.sanyar/Python_squidpy_analysis/fetallung_analysis_python/6w/pro_scaled_week11.csv',sep=',')\n",
    "pro_scaled_week12=pd.read_table('/Users/sanem.sanyar/Python_squidpy_analysis/fetallung_analysis_python/6w/pro_scaled_week12.csv',sep=',')\n",
    "pro_scaled_week13=pd.read_table('/Users/sanem.sanyar/Python_squidpy_analysis/fetallung_analysis_python/6w/pro_scaled_week13.csv',sep=',')"
   ]
  },
  {
   "cell_type": "code",
   "execution_count": null,
   "metadata": {},
   "outputs": [],
   "source": [
    "pro_scaled_week6 = pro_scaled_week6.set_index('Unnamed: 0')\n",
    "pro_scaled_week8_5 = pro_scaled_week8_5.set_index('Unnamed: 0')\n",
    "pro_scaled_week11 = pro_scaled_week11.set_index('Unnamed: 0')\n",
    "pro_scaled_week12 = pro_scaled_week12.set_index('Unnamed: 0')\n",
    "pro_scaled_week13 = pro_scaled_week13.set_index('Unnamed: 0')"
   ]
  },
  {
   "cell_type": "code",
   "execution_count": null,
   "metadata": {},
   "outputs": [],
   "source": [
    "# Assuming the dataframes are named as follows:\n",
    "# scaled_week6, scaled_week8_5, scaled_week11, scaled_week12, scaled_week13\n",
    "\n",
    "pro_data_matrices = [df.to_numpy() for df in [pro_scaled_week6, pro_scaled_week8_5, pro_scaled_week11, pro_scaled_week12, pro_scaled_week13]]\n",
    "\n",
    "pro_overlay = np.stack(pro_data_matrices, axis=-1)"
   ]
  },
  {
   "cell_type": "code",
   "execution_count": null,
   "metadata": {
    "scrolled": true
   },
   "outputs": [],
   "source": [
    "weeks = ['week6', 'week8.5', 'week11', 'week12', 'week13']\n",
    "column_names = pro_scaled_week6.columns  # Assuming column names are the same across all dataframes\n",
    "index_names = pro_scaled_week6.index  # Assuming row indexing is the same\n",
    "\n",
    "# Create plots: one plot for each column\n",
    "for col_idx, col_name in enumerate(column_names):\n",
    "    plt.figure(figsize=(10, 6))\n",
    "    for row_idx, row_name in enumerate(index_names):\n",
    "        # Extract the data for this row and column across all weeks\n",
    "        data_to_plot = pro_overlay[row_idx, col_idx, :]\n",
    "        plt.plot(weeks, data_to_plot, marker='o', label=f\"{row_name}\")\n",
    "\n",
    "    plt.title(f\"Time Series for {col_name}\")\n",
    "    plt.xlabel('Weeks')\n",
    "    plt.ylabel('Value')\n",
    "    plt.legend(title=\"Row\", bbox_to_anchor=(1.05, 1), loc='upper left')\n",
    "    plt.grid(True)\n",
    "    plt.tight_layout()\n",
    "    plt.show()"
   ]
  },
  {
   "cell_type": "code",
   "execution_count": null,
   "metadata": {},
   "outputs": [],
   "source": [
    "# Example category names and week names\n",
    "category_names = ['ASM', 'Endothelial', 'Immune', 'Mesenchymal', 'Proliferating ASM', 'Proliferating Endothelial', 'Proliferating Immune', 'Proliferating Mesenchymal', 'Proliferating SOX2 high epit.', 'Proliferating SOX9 high epit.','SOX2 high epit.','SOX9 high epit.']  # 12 categories\n",
    "week_names = ['6week', '8.5week', '11week', '12week', '13week']  # 5 weeks\n",
    "\n",
    "# Initialize an empty DataFrame\n",
    "diagonal_pro = pd.DataFrame(index=category_names, columns=week_names)\n",
    "\n",
    "# Fill the DataFrame with diagonal values from pro_overlay\n",
    "for i, cat in enumerate(category_names):\n",
    "    for j, week in enumerate(week_names):\n",
    "        diagonal_pro.at[cat, week] = pro_overlay[i, i, j]  # Ensure this indexing matches the actual array size\n",
    "\n",
    "# Output the DataFrame to verify\n",
    "print(diagonal_pro)"
   ]
  },
  {
   "cell_type": "code",
   "execution_count": null,
   "metadata": {},
   "outputs": [],
   "source": [
    "# Define a custom order for the rows\n",
    "custom_row_order = ['ASM', 'Proliferating ASM', 'Endothelial', 'Proliferating Endothelial', \n",
    "                'Immune', 'Proliferating Immune', \n",
    "                'Mesenchymal', 'Proliferating Mesenchymal', 'SOX2 high epit.', \n",
    "                'Proliferating SOX2 high epit.', 'SOX9 high epit.', 'Proliferating SOX9 high epit.']\n",
    "\n",
    "# Reorder the DataFrame rows according to the custom order\n",
    "diagonal_pro_reordered = diagonal_pro.loc[custom_row_order]\n",
    "\n"
   ]
  },
  {
   "cell_type": "code",
   "execution_count": null,
   "metadata": {},
   "outputs": [],
   "source": [
    "import pandas as pd\n",
    "import matplotlib.pyplot as plt\n",
    "from scipy.stats import ttest_ind\n",
    "\n",
    "\n",
    "# Calculating p-values\n",
    "p_values = {}\n",
    "for i in range(0, len(diagonal_pro_reordered.index), 2):\n",
    "    non_prolif = diagonal_pro_reordered.iloc[i]\n",
    "    prolif = diagonal_pro_reordered.iloc[i+1]\n",
    "    _, p_val = ttest_ind(non_prolif, prolif)\n",
    "    p_values[diagonal_pro_reordered.index[i]] = p_val\n",
    "\n",
    "# Transposing the DataFrame for plotting\n",
    "transposed_data = diagonal_pro_reordered.transpose()\n",
    "\n",
    "# Adjust matplotlib settings locally if needed\n",
    "plt.rcParams.update({'figure.figsize': (30, 15), 'figure.dpi': 200})\n",
    "\n",
    "# Create a larger box plot explicitly specifying size\n",
    "fig, ax = plt.subplots(figsize=(25, 10))  # This should ensure that figsize is respected\n",
    "transposed_data = diagonal_pro_reordered.transpose()\n",
    "transposed_data.plot(kind='box', ax=ax)\n",
    "\n",
    "# Annotating the box plot with p-values\n",
    "for line, p_val in zip(range(0, len(p_values) * 2, 2), p_values.values()):\n",
    "    x = line + 0.5\n",
    "    y = max(transposed_data.iloc[:, line].max(), transposed_data.iloc[:, line+1].max()) + 0.1\n",
    "    ax.text(x, y, f'p={p_val:.2e}', horizontalalignment='center', color='red', fontsize=12)\n",
    "\n",
    "ax.set_title('Cell type enrichment with itself', fontsize=16)\n",
    "ax.set_xlabel('Cell Types', fontsize=14)\n",
    "ax.set_ylabel('Expression Level', fontsize=14)\n",
    "ax.grid(True)\n",
    "\n",
    "# Save the plot as a PDF and show it\n",
    "plt.savefig('cell_type_enrichment.pdf', format='pdf', bbox_inches='tight')\n",
    "plt.show()\n",
    "\n",
    "plt.ion()  # Re-enable interactive mode if you prefer it for other parts of your notebook"
   ]
  },
  {
   "cell_type": "code",
   "execution_count": null,
   "metadata": {},
   "outputs": [],
   "source": [
    "results_df = pd.DataFrame(index=diagonal_pro_reordered.index[::2], columns=diagonal_pro_reordered.columns)  # Every other index is a standard type\n",
    "\n",
    "# Fill the new DataFrame by dividing the standard by the proliferating type\n",
    "for standard, proliferating in zip(diagonal_pro_reordered.index[::2], diagonal_pro_reordered.index[1::2]):\n",
    "    results_df.loc[standard] = diagonal_pro_reordered.loc[standard] / diagonal_pro_reordered.loc[proliferating]\n",
    "\n",
    "# Output the new DataFrame to verify\n",
    "print(results_df)"
   ]
  },
  {
   "cell_type": "code",
   "execution_count": null,
   "metadata": {},
   "outputs": [],
   "source": [
    "ax = results_df.T.plot(figsize=(10, 8), marker='o')  # Transpose df to get weeks on the x-axis\n",
    "plt.title('Cell Type Ratios Over Weeks')\n",
    "plt.xlabel('Weeks')\n",
    "plt.ylabel('Ratio')\n",
    "plt.grid(True)\n",
    "plt.legend(title='Cell Type')\n",
    "plt.savefig('nonprof_prof_ratio_interaction.pdf', format='pdf', bbox_inches='tight')\n",
    "plt.show()"
   ]
  }
 ],
 "metadata": {
  "kernelspec": {
   "display_name": "Python (squidpy)",
   "language": "python",
   "name": "squidpy"
  },
  "language_info": {
   "codemirror_mode": {
    "name": "ipython",
    "version": 3
   },
   "file_extension": ".py",
   "mimetype": "text/x-python",
   "name": "python",
   "nbconvert_exporter": "python",
   "pygments_lexer": "ipython3",
   "version": "3.7.11"
  }
 },
 "nbformat": 4,
 "nbformat_minor": 4
}
